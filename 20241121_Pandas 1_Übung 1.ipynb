{
 "cells": [
  {
   "cell_type": "code",
   "execution_count": 33,
   "id": "ca9e2b3e-7e16-4cc7-8ca0-f38f5d5ad2c3",
   "metadata": {},
   "outputs": [],
   "source": [
    "import pandas as pd # Strg + Enter\n",
    "import numpy as np"
   ]
  },
  {
   "cell_type": "code",
   "execution_count": 17,
   "id": "4cbe4d7d-cc11-44c2-b179-65ad06c3985d",
   "metadata": {},
   "outputs": [
    {
     "data": {
      "text/html": [
       "<div>\n",
       "<style scoped>\n",
       "    .dataframe tbody tr th:only-of-type {\n",
       "        vertical-align: middle;\n",
       "    }\n",
       "\n",
       "    .dataframe tbody tr th {\n",
       "        vertical-align: top;\n",
       "    }\n",
       "\n",
       "    .dataframe thead th {\n",
       "        text-align: right;\n",
       "    }\n",
       "</style>\n",
       "<table border=\"1\" class=\"dataframe\">\n",
       "  <thead>\n",
       "    <tr style=\"text-align: right;\">\n",
       "      <th></th>\n",
       "      <th>Bevölkerung</th>\n",
       "      <th>Fläche</th>\n",
       "      <th>Land</th>\n",
       "      <th>Sprache</th>\n",
       "    </tr>\n",
       "  </thead>\n",
       "  <tbody>\n",
       "    <tr>\n",
       "      <th>Berlin</th>\n",
       "      <td>3.6</td>\n",
       "      <td>892</td>\n",
       "      <td>Deutschland</td>\n",
       "      <td>deutsch</td>\n",
       "    </tr>\n",
       "    <tr>\n",
       "      <th>Madrid</th>\n",
       "      <td>3.3</td>\n",
       "      <td>604</td>\n",
       "      <td>Spanien</td>\n",
       "      <td>spanisch</td>\n",
       "    </tr>\n",
       "    <tr>\n",
       "      <th>Rom</th>\n",
       "      <td>2.8</td>\n",
       "      <td>1285</td>\n",
       "      <td>Italien</td>\n",
       "      <td>None</td>\n",
       "    </tr>\n",
       "  </tbody>\n",
       "</table>\n",
       "</div>"
      ],
      "text/plain": [
       "        Bevölkerung  Fläche         Land   Sprache\n",
       "Berlin          3.6     892  Deutschland   deutsch\n",
       "Madrid          3.3     604      Spanien  spanisch\n",
       "Rom             2.8    1285      Italien      None"
      ]
     },
     "execution_count": 17,
     "metadata": {},
     "output_type": "execute_result"
    }
   ],
   "source": [
    "index = [\"Berlin\", \"Madrid\", \"Rom\"]\n",
    "bevölkerung  = pd.Series(data = [3.6, 3.3, 2.8], index = index)\n",
    "fläche = pd.Series(data = [892, 604, 1285], index = index)\n",
    "land = pd.Series(data = [\"Deutschland\", \"Spanien\", \"Italien\"], index = index)\n",
    "sprache = pd.Series(data = [\"deutsch\", \"spanisch\", None], index = index)\n",
    "\n",
    "my_dict = {\n",
    "    'Bevölkerung': bevölkerung,\n",
    "    'Fläche': fläche,\n",
    "    'Land': land,\n",
    "    'Sprache': sprache\n",
    "}\n",
    "\n",
    "df = pd.DataFrame(my_dict)\n",
    "df"
   ]
  },
  {
   "cell_type": "code",
   "execution_count": 19,
   "id": "2261769e-9616-4d00-8628-21402803bcff",
   "metadata": {},
   "outputs": [
    {
     "data": {
      "text/plain": [
       "(3, 4)"
      ]
     },
     "execution_count": 19,
     "metadata": {},
     "output_type": "execute_result"
    }
   ],
   "source": [
    "df.shape    # shows the indexes "
   ]
  },
  {
   "cell_type": "code",
   "execution_count": 21,
   "id": "42a769cf-b3f6-4482-a8fb-736c563ac7b9",
   "metadata": {},
   "outputs": [
    {
     "data": {
      "text/plain": [
       "Bevölkerung    float64\n",
       "Fläche           int64\n",
       "Land            object\n",
       "Sprache         object\n",
       "dtype: object"
      ]
     },
     "execution_count": 21,
     "metadata": {},
     "output_type": "execute_result"
    }
   ],
   "source": [
    "df.dtypes   # object = string"
   ]
  },
  {
   "cell_type": "code",
   "execution_count": 23,
   "id": "e42eb412-911b-47f2-b813-61d927d8df8b",
   "metadata": {},
   "outputs": [
    {
     "name": "stdout",
     "output_type": "stream",
     "text": [
      "<class 'pandas.core.frame.DataFrame'>\n",
      "Index: 3 entries, Berlin to Rom\n",
      "Data columns (total 4 columns):\n",
      " #   Column       Non-Null Count  Dtype  \n",
      "---  ------       --------------  -----  \n",
      " 0   Bevölkerung  3 non-null      float64\n",
      " 1   Fläche       3 non-null      int64  \n",
      " 2   Land         3 non-null      object \n",
      " 3   Sprache      2 non-null      object \n",
      "dtypes: float64(1), int64(1), object(2)\n",
      "memory usage: 120.0+ bytes\n"
     ]
    }
   ],
   "source": [
    "df.info()"
   ]
  },
  {
   "cell_type": "code",
   "execution_count": 25,
   "id": "9abf1fab-1c1a-483e-9888-b7aa967a23e0",
   "metadata": {},
   "outputs": [
    {
     "data": {
      "text/html": [
       "<div>\n",
       "<style scoped>\n",
       "    .dataframe tbody tr th:only-of-type {\n",
       "        vertical-align: middle;\n",
       "    }\n",
       "\n",
       "    .dataframe tbody tr th {\n",
       "        vertical-align: top;\n",
       "    }\n",
       "\n",
       "    .dataframe thead th {\n",
       "        text-align: right;\n",
       "    }\n",
       "</style>\n",
       "<table border=\"1\" class=\"dataframe\">\n",
       "  <thead>\n",
       "    <tr style=\"text-align: right;\">\n",
       "      <th></th>\n",
       "      <th>Bevölkerung</th>\n",
       "      <th>Fläche</th>\n",
       "    </tr>\n",
       "  </thead>\n",
       "  <tbody>\n",
       "    <tr>\n",
       "      <th>count</th>\n",
       "      <td>3.000000</td>\n",
       "      <td>3.000000</td>\n",
       "    </tr>\n",
       "    <tr>\n",
       "      <th>mean</th>\n",
       "      <td>3.233333</td>\n",
       "      <td>927.000000</td>\n",
       "    </tr>\n",
       "    <tr>\n",
       "      <th>std</th>\n",
       "      <td>0.404145</td>\n",
       "      <td>341.846457</td>\n",
       "    </tr>\n",
       "    <tr>\n",
       "      <th>min</th>\n",
       "      <td>2.800000</td>\n",
       "      <td>604.000000</td>\n",
       "    </tr>\n",
       "    <tr>\n",
       "      <th>25%</th>\n",
       "      <td>3.050000</td>\n",
       "      <td>748.000000</td>\n",
       "    </tr>\n",
       "    <tr>\n",
       "      <th>50%</th>\n",
       "      <td>3.300000</td>\n",
       "      <td>892.000000</td>\n",
       "    </tr>\n",
       "    <tr>\n",
       "      <th>75%</th>\n",
       "      <td>3.450000</td>\n",
       "      <td>1088.500000</td>\n",
       "    </tr>\n",
       "    <tr>\n",
       "      <th>max</th>\n",
       "      <td>3.600000</td>\n",
       "      <td>1285.000000</td>\n",
       "    </tr>\n",
       "  </tbody>\n",
       "</table>\n",
       "</div>"
      ],
      "text/plain": [
       "       Bevölkerung       Fläche\n",
       "count     3.000000     3.000000\n",
       "mean      3.233333   927.000000\n",
       "std       0.404145   341.846457\n",
       "min       2.800000   604.000000\n",
       "25%       3.050000   748.000000\n",
       "50%       3.300000   892.000000\n",
       "75%       3.450000  1088.500000\n",
       "max       3.600000  1285.000000"
      ]
     },
     "execution_count": 25,
     "metadata": {},
     "output_type": "execute_result"
    }
   ],
   "source": [
    "df.describe()"
   ]
  },
  {
   "cell_type": "code",
   "execution_count": 27,
   "id": "d7f1dcec-b12f-418d-acaf-509f34ddf259",
   "metadata": {},
   "outputs": [
    {
     "data": {
      "text/html": [
       "<div>\n",
       "<style scoped>\n",
       "    .dataframe tbody tr th:only-of-type {\n",
       "        vertical-align: middle;\n",
       "    }\n",
       "\n",
       "    .dataframe tbody tr th {\n",
       "        vertical-align: top;\n",
       "    }\n",
       "\n",
       "    .dataframe thead th {\n",
       "        text-align: right;\n",
       "    }\n",
       "</style>\n",
       "<table border=\"1\" class=\"dataframe\">\n",
       "  <thead>\n",
       "    <tr style=\"text-align: right;\">\n",
       "      <th></th>\n",
       "      <th>Bevölkerung</th>\n",
       "      <th>Fläche</th>\n",
       "      <th>Land</th>\n",
       "      <th>Sprache</th>\n",
       "    </tr>\n",
       "  </thead>\n",
       "  <tbody>\n",
       "    <tr>\n",
       "      <th>Berlin</th>\n",
       "      <td>False</td>\n",
       "      <td>False</td>\n",
       "      <td>False</td>\n",
       "      <td>False</td>\n",
       "    </tr>\n",
       "    <tr>\n",
       "      <th>Madrid</th>\n",
       "      <td>False</td>\n",
       "      <td>False</td>\n",
       "      <td>False</td>\n",
       "      <td>False</td>\n",
       "    </tr>\n",
       "    <tr>\n",
       "      <th>Rom</th>\n",
       "      <td>False</td>\n",
       "      <td>False</td>\n",
       "      <td>False</td>\n",
       "      <td>True</td>\n",
       "    </tr>\n",
       "  </tbody>\n",
       "</table>\n",
       "</div>"
      ],
      "text/plain": [
       "        Bevölkerung  Fläche   Land  Sprache\n",
       "Berlin        False   False  False    False\n",
       "Madrid        False   False  False    False\n",
       "Rom           False   False  False     True"
      ]
     },
     "execution_count": 27,
     "metadata": {},
     "output_type": "execute_result"
    }
   ],
   "source": [
    "df.isnull()"
   ]
  },
  {
   "cell_type": "code",
   "execution_count": 29,
   "id": "dceb4275-6ee5-44dc-bbc0-82e6d452dcac",
   "metadata": {},
   "outputs": [
    {
     "data": {
      "text/plain": [
       "Bevölkerung    0\n",
       "Fläche         0\n",
       "Land           0\n",
       "Sprache        1\n",
       "dtype: int64"
      ]
     },
     "execution_count": 29,
     "metadata": {},
     "output_type": "execute_result"
    }
   ],
   "source": [
    "df.isnull().sum()"
   ]
  },
  {
   "cell_type": "code",
   "execution_count": 49,
   "id": "2812dcf8-5c49-45d9-9d5c-d9d586fdc6c5",
   "metadata": {},
   "outputs": [
    {
     "data": {
      "text/html": [
       "<div>\n",
       "<style scoped>\n",
       "    .dataframe tbody tr th:only-of-type {\n",
       "        vertical-align: middle;\n",
       "    }\n",
       "\n",
       "    .dataframe tbody tr th {\n",
       "        vertical-align: top;\n",
       "    }\n",
       "\n",
       "    .dataframe thead th {\n",
       "        text-align: right;\n",
       "    }\n",
       "</style>\n",
       "<table border=\"1\" class=\"dataframe\">\n",
       "  <thead>\n",
       "    <tr style=\"text-align: right;\">\n",
       "      <th></th>\n",
       "      <th>Bevölkerung</th>\n",
       "      <th>Fläche</th>\n",
       "      <th>Land</th>\n",
       "      <th>Sprache</th>\n",
       "    </tr>\n",
       "  </thead>\n",
       "  <tbody>\n",
       "    <tr>\n",
       "      <th>Berlin</th>\n",
       "      <td>3.6</td>\n",
       "      <td>892</td>\n",
       "      <td>Deutschland</td>\n",
       "      <td>deutsch</td>\n",
       "    </tr>\n",
       "    <tr>\n",
       "      <th>Madrid</th>\n",
       "      <td>3.3</td>\n",
       "      <td>604</td>\n",
       "      <td>Spanien</td>\n",
       "      <td>spanisch</td>\n",
       "    </tr>\n",
       "    <tr>\n",
       "      <th>Rom</th>\n",
       "      <td>2.8</td>\n",
       "      <td>1285</td>\n",
       "      <td>Italien</td>\n",
       "      <td>None</td>\n",
       "    </tr>\n",
       "  </tbody>\n",
       "</table>\n",
       "</div>"
      ],
      "text/plain": [
       "        Bevölkerung  Fläche         Land   Sprache\n",
       "Berlin          3.6     892  Deutschland   deutsch\n",
       "Madrid          3.3     604      Spanien  spanisch\n",
       "Rom             2.8    1285      Italien      None"
      ]
     },
     "execution_count": 49,
     "metadata": {},
     "output_type": "execute_result"
    }
   ],
   "source": [
    "# Alternativ zu df \n",
    "df2 = pd.DataFrame({\n",
    "    'Bevölkerung': [3.6, 3.3, 2.8],  # wenn ein Wert fehlt, dann Error \n",
    "    'Fläche': [892, 604, 1285],\n",
    "    'Land': [\"Deutschland\", \"Spanien\", \"Italien\"],\n",
    "    'Sprache': [\"deutsch\", \"spanisch\", None]\n",
    "}, index = [\"Berlin\", \"Madrid\", \"Rom\"])  # sonst wird index = 0,1,2,3...\n",
    "df2"
   ]
  },
  {
   "cell_type": "markdown",
   "id": "d1af6a6f-b263-4e4b-b473-d29f9a81440b",
   "metadata": {},
   "source": [
    "# Welche Funktion für Ersetzen von NA "
   ]
  },
  {
   "cell_type": "code",
   "execution_count": 35,
   "id": "16d86802-ea10-4190-8ece-c4a4103fe146",
   "metadata": {},
   "outputs": [
    {
     "data": {
      "text/plain": [
       "(array([2], dtype=int64), array([3], dtype=int64))"
      ]
     },
     "execution_count": 35,
     "metadata": {},
     "output_type": "execute_result"
    }
   ],
   "source": [
    "np.where(df.isna())"
   ]
  },
  {
   "cell_type": "code",
   "execution_count": 59,
   "id": "5dfd72aa-1634-45d0-9ef1-b025f7607808",
   "metadata": {},
   "outputs": [
    {
     "data": {
      "text/html": [
       "<div>\n",
       "<style scoped>\n",
       "    .dataframe tbody tr th:only-of-type {\n",
       "        vertical-align: middle;\n",
       "    }\n",
       "\n",
       "    .dataframe tbody tr th {\n",
       "        vertical-align: top;\n",
       "    }\n",
       "\n",
       "    .dataframe thead th {\n",
       "        text-align: right;\n",
       "    }\n",
       "</style>\n",
       "<table border=\"1\" class=\"dataframe\">\n",
       "  <thead>\n",
       "    <tr style=\"text-align: right;\">\n",
       "      <th></th>\n",
       "      <th>Bevölkerung</th>\n",
       "      <th>Fläche</th>\n",
       "      <th>Land</th>\n",
       "      <th>Sprache</th>\n",
       "    </tr>\n",
       "  </thead>\n",
       "  <tbody>\n",
       "    <tr>\n",
       "      <th>Berlin</th>\n",
       "      <td>3.6</td>\n",
       "      <td>892</td>\n",
       "      <td>Deutschland</td>\n",
       "      <td>deutsch</td>\n",
       "    </tr>\n",
       "    <tr>\n",
       "      <th>Madrid</th>\n",
       "      <td>3.3</td>\n",
       "      <td>604</td>\n",
       "      <td>Spanien</td>\n",
       "      <td>spanisch</td>\n",
       "    </tr>\n",
       "    <tr>\n",
       "      <th>Rom</th>\n",
       "      <td>2.8</td>\n",
       "      <td>1285</td>\n",
       "      <td>Italien</td>\n",
       "      <td>italienisch</td>\n",
       "    </tr>\n",
       "  </tbody>\n",
       "</table>\n",
       "</div>"
      ],
      "text/plain": [
       "        Bevölkerung  Fläche         Land      Sprache\n",
       "Berlin          3.6     892  Deutschland      deutsch\n",
       "Madrid          3.3     604      Spanien     spanisch\n",
       "Rom             2.8    1285      Italien  italienisch"
      ]
     },
     "execution_count": 59,
     "metadata": {},
     "output_type": "execute_result"
    }
   ],
   "source": [
    "df.iloc[2,3] = \"italienisch\"   # 1. Methode\n",
    "df"
   ]
  },
  {
   "cell_type": "code",
   "execution_count": 57,
   "id": "10e27dd3-2e59-4577-976d-aad4f0e1960a",
   "metadata": {},
   "outputs": [
    {
     "data": {
      "text/html": [
       "<div>\n",
       "<style scoped>\n",
       "    .dataframe tbody tr th:only-of-type {\n",
       "        vertical-align: middle;\n",
       "    }\n",
       "\n",
       "    .dataframe tbody tr th {\n",
       "        vertical-align: top;\n",
       "    }\n",
       "\n",
       "    .dataframe thead th {\n",
       "        text-align: right;\n",
       "    }\n",
       "</style>\n",
       "<table border=\"1\" class=\"dataframe\">\n",
       "  <thead>\n",
       "    <tr style=\"text-align: right;\">\n",
       "      <th></th>\n",
       "      <th>Bevölkerung</th>\n",
       "      <th>Fläche</th>\n",
       "      <th>Land</th>\n",
       "      <th>Sprache</th>\n",
       "    </tr>\n",
       "  </thead>\n",
       "  <tbody>\n",
       "    <tr>\n",
       "      <th>Berlin</th>\n",
       "      <td>3.6</td>\n",
       "      <td>892</td>\n",
       "      <td>Deutschland</td>\n",
       "      <td>deutsch</td>\n",
       "    </tr>\n",
       "    <tr>\n",
       "      <th>Madrid</th>\n",
       "      <td>3.3</td>\n",
       "      <td>604</td>\n",
       "      <td>Spanien</td>\n",
       "      <td>spanisch</td>\n",
       "    </tr>\n",
       "    <tr>\n",
       "      <th>Rom</th>\n",
       "      <td>2.8</td>\n",
       "      <td>1285</td>\n",
       "      <td>Italien</td>\n",
       "      <td>italienisch</td>\n",
       "    </tr>\n",
       "  </tbody>\n",
       "</table>\n",
       "</div>"
      ],
      "text/plain": [
       "        Bevölkerung  Fläche         Land      Sprache\n",
       "Berlin          3.6     892  Deutschland      deutsch\n",
       "Madrid          3.3     604      Spanien     spanisch\n",
       "Rom             2.8    1285      Italien  italienisch"
      ]
     },
     "execution_count": 57,
     "metadata": {},
     "output_type": "execute_result"
    }
   ],
   "source": [
    "df.loc[\"Rom\", \"Sprache\"] = \"italienisch\"    # 2. Methode\n",
    "df"
   ]
  },
  {
   "cell_type": "code",
   "execution_count": 61,
   "id": "d9d313f3-9957-4b9a-bf2a-eaac0fe51773",
   "metadata": {},
   "outputs": [
    {
     "data": {
      "text/html": [
       "<div>\n",
       "<style scoped>\n",
       "    .dataframe tbody tr th:only-of-type {\n",
       "        vertical-align: middle;\n",
       "    }\n",
       "\n",
       "    .dataframe tbody tr th {\n",
       "        vertical-align: top;\n",
       "    }\n",
       "\n",
       "    .dataframe thead th {\n",
       "        text-align: right;\n",
       "    }\n",
       "</style>\n",
       "<table border=\"1\" class=\"dataframe\">\n",
       "  <thead>\n",
       "    <tr style=\"text-align: right;\">\n",
       "      <th></th>\n",
       "      <th>Bevölkerung</th>\n",
       "      <th>Fläche</th>\n",
       "      <th>Land</th>\n",
       "      <th>Sprache</th>\n",
       "    </tr>\n",
       "  </thead>\n",
       "  <tbody>\n",
       "    <tr>\n",
       "      <th>Berlin</th>\n",
       "      <td>3.6</td>\n",
       "      <td>892</td>\n",
       "      <td>Deutschland</td>\n",
       "      <td>deutsch</td>\n",
       "    </tr>\n",
       "    <tr>\n",
       "      <th>Madrid</th>\n",
       "      <td>3.3</td>\n",
       "      <td>604</td>\n",
       "      <td>Spanien</td>\n",
       "      <td>spanisch</td>\n",
       "    </tr>\n",
       "    <tr>\n",
       "      <th>Rom</th>\n",
       "      <td>2.8</td>\n",
       "      <td>1285</td>\n",
       "      <td>Italien</td>\n",
       "      <td>italienisch</td>\n",
       "    </tr>\n",
       "  </tbody>\n",
       "</table>\n",
       "</div>"
      ],
      "text/plain": [
       "        Bevölkerung  Fläche         Land      Sprache\n",
       "Berlin          3.6     892  Deutschland      deutsch\n",
       "Madrid          3.3     604      Spanien     spanisch\n",
       "Rom             2.8    1285      Italien  italienisch"
      ]
     },
     "execution_count": 61,
     "metadata": {},
     "output_type": "execute_result"
    }
   ],
   "source": [
    "df2[\"Sprache\"] = df[\"Sprache\"].fillna(\"italienisch\")\n",
    "df2"
   ]
  },
  {
   "cell_type": "markdown",
   "id": "9ad39e36-b48f-41e1-80ac-d0cc0fa4e3ba",
   "metadata": {},
   "source": [
    "# Aufgabe: Füge New York hinzu. Gegeben: Einwohner = 8.5 Mio, Fläche = 784 qm2 \n",
    "Hinweis: pd.concat()"
   ]
  },
  {
   "cell_type": "code",
   "execution_count": 87,
   "id": "eb86f9ee-a862-46ac-9b4d-65223d5accad",
   "metadata": {},
   "outputs": [
    {
     "data": {
      "text/html": [
       "<div>\n",
       "<style scoped>\n",
       "    .dataframe tbody tr th:only-of-type {\n",
       "        vertical-align: middle;\n",
       "    }\n",
       "\n",
       "    .dataframe tbody tr th {\n",
       "        vertical-align: top;\n",
       "    }\n",
       "\n",
       "    .dataframe thead th {\n",
       "        text-align: right;\n",
       "    }\n",
       "</style>\n",
       "<table border=\"1\" class=\"dataframe\">\n",
       "  <thead>\n",
       "    <tr style=\"text-align: right;\">\n",
       "      <th></th>\n",
       "      <th>Bevölkerung</th>\n",
       "      <th>Fläche</th>\n",
       "      <th>Land</th>\n",
       "      <th>Sprache</th>\n",
       "    </tr>\n",
       "  </thead>\n",
       "  <tbody>\n",
       "    <tr>\n",
       "      <th>Berlin</th>\n",
       "      <td>3.6</td>\n",
       "      <td>892</td>\n",
       "      <td>Deutschland</td>\n",
       "      <td>deutsch</td>\n",
       "    </tr>\n",
       "    <tr>\n",
       "      <th>Madrid</th>\n",
       "      <td>3.3</td>\n",
       "      <td>604</td>\n",
       "      <td>Spanien</td>\n",
       "      <td>spanisch</td>\n",
       "    </tr>\n",
       "    <tr>\n",
       "      <th>Rom</th>\n",
       "      <td>2.8</td>\n",
       "      <td>1285</td>\n",
       "      <td>Italien</td>\n",
       "      <td>italienisch</td>\n",
       "    </tr>\n",
       "    <tr>\n",
       "      <th>New York</th>\n",
       "      <td>8.5</td>\n",
       "      <td>784</td>\n",
       "      <td>USA</td>\n",
       "      <td>englisch</td>\n",
       "    </tr>\n",
       "  </tbody>\n",
       "</table>\n",
       "</div>"
      ],
      "text/plain": [
       "          Bevölkerung  Fläche         Land      Sprache\n",
       "Berlin            3.6     892  Deutschland      deutsch\n",
       "Madrid            3.3     604      Spanien     spanisch\n",
       "Rom               2.8    1285      Italien  italienisch\n",
       "New York          8.5     784          USA     englisch"
      ]
     },
     "execution_count": 87,
     "metadata": {},
     "output_type": "execute_result"
    }
   ],
   "source": [
    "\n",
    "NewYork_df = pd.DataFrame({\n",
    "    'Bevölkerung': [8.5], \n",
    "    'Fläche': [784],\n",
    "    'Land': [\"USA\"],\n",
    "    'Sprache': [\"englisch\"]\n",
    "}, index = [\"New York\"])  \n",
    "\n",
    "NewYork_df\n",
    "df3 = pd.concat([df,NewYork_df])\n",
    "df3"
   ]
  },
  {
   "cell_type": "markdown",
   "id": "d2c14205-72af-4a25-9dd1-515caa8eae12",
   "metadata": {},
   "source": [
    "# Fügen Sie nun eine weitere Spalte mit dem Namen \"EU\" hinzu, die den booleschen Wert True annimmt, wenn das Land zur Europäischen Union gehört, und andernfalls den Wert False."
   ]
  },
  {
   "cell_type": "code",
   "execution_count": 93,
   "id": "8b6c173d-22c0-4bd8-aae5-8c51344926a5",
   "metadata": {},
   "outputs": [
    {
     "data": {
      "text/html": [
       "<div>\n",
       "<style scoped>\n",
       "    .dataframe tbody tr th:only-of-type {\n",
       "        vertical-align: middle;\n",
       "    }\n",
       "\n",
       "    .dataframe tbody tr th {\n",
       "        vertical-align: top;\n",
       "    }\n",
       "\n",
       "    .dataframe thead th {\n",
       "        text-align: right;\n",
       "    }\n",
       "</style>\n",
       "<table border=\"1\" class=\"dataframe\">\n",
       "  <thead>\n",
       "    <tr style=\"text-align: right;\">\n",
       "      <th></th>\n",
       "      <th>Bevölkerung</th>\n",
       "      <th>Fläche</th>\n",
       "      <th>Land</th>\n",
       "      <th>Sprache</th>\n",
       "      <th>EU</th>\n",
       "    </tr>\n",
       "  </thead>\n",
       "  <tbody>\n",
       "    <tr>\n",
       "      <th>Berlin</th>\n",
       "      <td>3.6</td>\n",
       "      <td>892</td>\n",
       "      <td>Deutschland</td>\n",
       "      <td>deutsch</td>\n",
       "      <td>True</td>\n",
       "    </tr>\n",
       "    <tr>\n",
       "      <th>Madrid</th>\n",
       "      <td>3.3</td>\n",
       "      <td>604</td>\n",
       "      <td>Spanien</td>\n",
       "      <td>spanisch</td>\n",
       "      <td>True</td>\n",
       "    </tr>\n",
       "    <tr>\n",
       "      <th>Rom</th>\n",
       "      <td>2.8</td>\n",
       "      <td>1285</td>\n",
       "      <td>Italien</td>\n",
       "      <td>italienisch</td>\n",
       "      <td>True</td>\n",
       "    </tr>\n",
       "    <tr>\n",
       "      <th>New York</th>\n",
       "      <td>8.5</td>\n",
       "      <td>784</td>\n",
       "      <td>USA</td>\n",
       "      <td>englisch</td>\n",
       "      <td>False</td>\n",
       "    </tr>\n",
       "  </tbody>\n",
       "</table>\n",
       "</div>"
      ],
      "text/plain": [
       "          Bevölkerung  Fläche         Land      Sprache     EU\n",
       "Berlin            3.6     892  Deutschland      deutsch   True\n",
       "Madrid            3.3     604      Spanien     spanisch   True\n",
       "Rom               2.8    1285      Italien  italienisch   True\n",
       "New York          8.5     784          USA     englisch  False"
      ]
     },
     "execution_count": 93,
     "metadata": {},
     "output_type": "execute_result"
    }
   ],
   "source": [
    "df3[\"EU\"] = df3[\"Land\"] != \"USA\"\n",
    "df3"
   ]
  },
  {
   "cell_type": "markdown",
   "id": "4d13a0d7-af25-4af1-9ec5-d74637b238a1",
   "metadata": {},
   "source": [
    "# Fügen Sie nun eine weitere Spalte mit dem Namen \"Region\" hinzu, dass die Beschriftung \"Europa\" annimmt, wenn EU gleich True ist und andernfalls die Beschriftung \"Americas\". Sie können die Funktion np.where() verwenden"
   ]
  },
  {
   "cell_type": "code",
   "execution_count": 95,
   "id": "cc289f37-9010-4556-b7f3-bbb182d58d67",
   "metadata": {},
   "outputs": [
    {
     "data": {
      "text/html": [
       "<div>\n",
       "<style scoped>\n",
       "    .dataframe tbody tr th:only-of-type {\n",
       "        vertical-align: middle;\n",
       "    }\n",
       "\n",
       "    .dataframe tbody tr th {\n",
       "        vertical-align: top;\n",
       "    }\n",
       "\n",
       "    .dataframe thead th {\n",
       "        text-align: right;\n",
       "    }\n",
       "</style>\n",
       "<table border=\"1\" class=\"dataframe\">\n",
       "  <thead>\n",
       "    <tr style=\"text-align: right;\">\n",
       "      <th></th>\n",
       "      <th>Bevölkerung</th>\n",
       "      <th>Fläche</th>\n",
       "      <th>Land</th>\n",
       "      <th>Sprache</th>\n",
       "      <th>EU</th>\n",
       "      <th>Region</th>\n",
       "    </tr>\n",
       "  </thead>\n",
       "  <tbody>\n",
       "    <tr>\n",
       "      <th>Berlin</th>\n",
       "      <td>3.6</td>\n",
       "      <td>892</td>\n",
       "      <td>Deutschland</td>\n",
       "      <td>deutsch</td>\n",
       "      <td>True</td>\n",
       "      <td>Europe</td>\n",
       "    </tr>\n",
       "    <tr>\n",
       "      <th>Madrid</th>\n",
       "      <td>3.3</td>\n",
       "      <td>604</td>\n",
       "      <td>Spanien</td>\n",
       "      <td>spanisch</td>\n",
       "      <td>True</td>\n",
       "      <td>Europe</td>\n",
       "    </tr>\n",
       "    <tr>\n",
       "      <th>Rom</th>\n",
       "      <td>2.8</td>\n",
       "      <td>1285</td>\n",
       "      <td>Italien</td>\n",
       "      <td>italienisch</td>\n",
       "      <td>True</td>\n",
       "      <td>Europe</td>\n",
       "    </tr>\n",
       "    <tr>\n",
       "      <th>New York</th>\n",
       "      <td>8.5</td>\n",
       "      <td>784</td>\n",
       "      <td>USA</td>\n",
       "      <td>englisch</td>\n",
       "      <td>False</td>\n",
       "      <td>America</td>\n",
       "    </tr>\n",
       "  </tbody>\n",
       "</table>\n",
       "</div>"
      ],
      "text/plain": [
       "          Bevölkerung  Fläche         Land      Sprache     EU   Region\n",
       "Berlin            3.6     892  Deutschland      deutsch   True   Europe\n",
       "Madrid            3.3     604      Spanien     spanisch   True   Europe\n",
       "Rom               2.8    1285      Italien  italienisch   True   Europe\n",
       "New York          8.5     784          USA     englisch  False  America"
      ]
     },
     "execution_count": 95,
     "metadata": {},
     "output_type": "execute_result"
    }
   ],
   "source": [
    "df3[\"Region\"] = np.where(df3[\"EU\"] == True, \"Europe\", \"America\")\n",
    "df3"
   ]
  }
 ],
 "metadata": {
  "kernelspec": {
   "display_name": "Python 3 (ipykernel)",
   "language": "python",
   "name": "python3"
  },
  "language_info": {
   "codemirror_mode": {
    "name": "ipython",
    "version": 3
   },
   "file_extension": ".py",
   "mimetype": "text/x-python",
   "name": "python",
   "nbconvert_exporter": "python",
   "pygments_lexer": "ipython3",
   "version": "3.12.7"
  }
 },
 "nbformat": 4,
 "nbformat_minor": 5
}
