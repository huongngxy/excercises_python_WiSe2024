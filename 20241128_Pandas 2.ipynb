{
 "cells": [
  {
   "cell_type": "code",
   "execution_count": 66,
   "id": "45c0a19c-8560-412c-a879-2e00aa088a51",
   "metadata": {},
   "outputs": [
    {
     "data": {
      "text/html": [
       "<div>\n",
       "<style scoped>\n",
       "    .dataframe tbody tr th:only-of-type {\n",
       "        vertical-align: middle;\n",
       "    }\n",
       "\n",
       "    .dataframe tbody tr th {\n",
       "        vertical-align: top;\n",
       "    }\n",
       "\n",
       "    .dataframe thead th {\n",
       "        text-align: right;\n",
       "    }\n",
       "</style>\n",
       "<table border=\"1\" class=\"dataframe\">\n",
       "  <thead>\n",
       "    <tr style=\"text-align: right;\">\n",
       "      <th></th>\n",
       "      <th>period</th>\n",
       "      <th>Annually – (Percentage of GDP at current prices (excessive deficit procedure)) – Germany (AMECO/UDGG/DEU.1.0.319.0.UDGG)</th>\n",
       "      <th>Annually – (Percentage of GDP at current prices (excessive deficit procedure)) – Spain (AMECO/UDGG/ESP.1.0.319.0.UDGG)</th>\n",
       "      <th>Annually – (Percentage of GDP at current prices (excessive deficit procedure)) – France (AMECO/UDGG/FRA.1.0.319.0.UDGG)</th>\n",
       "      <th>Annually – (Percentage of GDP at current prices (excessive deficit procedure)) – Italy (AMECO/UDGG/ITA.1.0.319.0.UDGG)</th>\n",
       "    </tr>\n",
       "  </thead>\n",
       "  <tbody>\n",
       "    <tr>\n",
       "      <th>0</th>\n",
       "      <td>1960</td>\n",
       "      <td>NaN</td>\n",
       "      <td>NaN</td>\n",
       "      <td>NaN</td>\n",
       "      <td>31.7953</td>\n",
       "    </tr>\n",
       "    <tr>\n",
       "      <th>1</th>\n",
       "      <td>1961</td>\n",
       "      <td>NaN</td>\n",
       "      <td>NaN</td>\n",
       "      <td>NaN</td>\n",
       "      <td>29.9336</td>\n",
       "    </tr>\n",
       "    <tr>\n",
       "      <th>2</th>\n",
       "      <td>1962</td>\n",
       "      <td>NaN</td>\n",
       "      <td>NaN</td>\n",
       "      <td>NaN</td>\n",
       "      <td>28.7905</td>\n",
       "    </tr>\n",
       "    <tr>\n",
       "      <th>3</th>\n",
       "      <td>1963</td>\n",
       "      <td>NaN</td>\n",
       "      <td>NaN</td>\n",
       "      <td>NaN</td>\n",
       "      <td>26.8476</td>\n",
       "    </tr>\n",
       "    <tr>\n",
       "      <th>4</th>\n",
       "      <td>1964</td>\n",
       "      <td>NaN</td>\n",
       "      <td>NaN</td>\n",
       "      <td>NaN</td>\n",
       "      <td>26.6785</td>\n",
       "    </tr>\n",
       "    <tr>\n",
       "      <th>...</th>\n",
       "      <td>...</td>\n",
       "      <td>...</td>\n",
       "      <td>...</td>\n",
       "      <td>...</td>\n",
       "      <td>...</td>\n",
       "    </tr>\n",
       "    <tr>\n",
       "      <th>61</th>\n",
       "      <td>2021</td>\n",
       "      <td>68.9861</td>\n",
       "      <td>116.8408</td>\n",
       "      <td>112.9733</td>\n",
       "      <td>147.1270</td>\n",
       "    </tr>\n",
       "    <tr>\n",
       "      <th>62</th>\n",
       "      <td>2022</td>\n",
       "      <td>66.0769</td>\n",
       "      <td>111.6180</td>\n",
       "      <td>111.9182</td>\n",
       "      <td>140.5217</td>\n",
       "    </tr>\n",
       "    <tr>\n",
       "      <th>63</th>\n",
       "      <td>2023</td>\n",
       "      <td>63.6391</td>\n",
       "      <td>107.6521</td>\n",
       "      <td>110.6433</td>\n",
       "      <td>137.3104</td>\n",
       "    </tr>\n",
       "    <tr>\n",
       "      <th>64</th>\n",
       "      <td>2024</td>\n",
       "      <td>62.9344</td>\n",
       "      <td>105.5079</td>\n",
       "      <td>112.4088</td>\n",
       "      <td>138.6244</td>\n",
       "    </tr>\n",
       "    <tr>\n",
       "      <th>65</th>\n",
       "      <td>2025</td>\n",
       "      <td>62.1991</td>\n",
       "      <td>104.8290</td>\n",
       "      <td>113.8249</td>\n",
       "      <td>141.6909</td>\n",
       "    </tr>\n",
       "  </tbody>\n",
       "</table>\n",
       "<p>66 rows × 5 columns</p>\n",
       "</div>"
      ],
      "text/plain": [
       "    period  \\\n",
       "0     1960   \n",
       "1     1961   \n",
       "2     1962   \n",
       "3     1963   \n",
       "4     1964   \n",
       "..     ...   \n",
       "61    2021   \n",
       "62    2022   \n",
       "63    2023   \n",
       "64    2024   \n",
       "65    2025   \n",
       "\n",
       "    Annually – (Percentage of GDP at current prices (excessive deficit procedure)) – Germany (AMECO/UDGG/DEU.1.0.319.0.UDGG)  \\\n",
       "0                                                 NaN                                                                          \n",
       "1                                                 NaN                                                                          \n",
       "2                                                 NaN                                                                          \n",
       "3                                                 NaN                                                                          \n",
       "4                                                 NaN                                                                          \n",
       "..                                                ...                                                                          \n",
       "61                                            68.9861                                                                          \n",
       "62                                            66.0769                                                                          \n",
       "63                                            63.6391                                                                          \n",
       "64                                            62.9344                                                                          \n",
       "65                                            62.1991                                                                          \n",
       "\n",
       "    Annually – (Percentage of GDP at current prices (excessive deficit procedure)) – Spain (AMECO/UDGG/ESP.1.0.319.0.UDGG)  \\\n",
       "0                                                 NaN                                                                        \n",
       "1                                                 NaN                                                                        \n",
       "2                                                 NaN                                                                        \n",
       "3                                                 NaN                                                                        \n",
       "4                                                 NaN                                                                        \n",
       "..                                                ...                                                                        \n",
       "61                                           116.8408                                                                        \n",
       "62                                           111.6180                                                                        \n",
       "63                                           107.6521                                                                        \n",
       "64                                           105.5079                                                                        \n",
       "65                                           104.8290                                                                        \n",
       "\n",
       "    Annually – (Percentage of GDP at current prices (excessive deficit procedure)) – France (AMECO/UDGG/FRA.1.0.319.0.UDGG)  \\\n",
       "0                                                 NaN                                                                         \n",
       "1                                                 NaN                                                                         \n",
       "2                                                 NaN                                                                         \n",
       "3                                                 NaN                                                                         \n",
       "4                                                 NaN                                                                         \n",
       "..                                                ...                                                                         \n",
       "61                                           112.9733                                                                         \n",
       "62                                           111.9182                                                                         \n",
       "63                                           110.6433                                                                         \n",
       "64                                           112.4088                                                                         \n",
       "65                                           113.8249                                                                         \n",
       "\n",
       "    Annually – (Percentage of GDP at current prices (excessive deficit procedure)) – Italy (AMECO/UDGG/ITA.1.0.319.0.UDGG)  \n",
       "0                                             31.7953                                                                       \n",
       "1                                             29.9336                                                                       \n",
       "2                                             28.7905                                                                       \n",
       "3                                             26.8476                                                                       \n",
       "4                                             26.6785                                                                       \n",
       "..                                                ...                                                                       \n",
       "61                                           147.1270                                                                       \n",
       "62                                           140.5217                                                                       \n",
       "63                                           137.3104                                                                       \n",
       "64                                           138.6244                                                                       \n",
       "65                                           141.6909                                                                       \n",
       "\n",
       "[66 rows x 5 columns]"
      ]
     },
     "execution_count": 66,
     "metadata": {},
     "output_type": "execute_result"
    }
   ],
   "source": [
    "import pandas as pd \n",
    "import seaborn as sns  # um Grafiken aus long datasets zu erstellen \n",
    "import matplotlib.pyplot as plt\n",
    "import plotly.express as px\n",
    "\n",
    "\n",
    "# Übung 1 - Exercise 16: \n",
    "url = \"https://api.db.nomics.world/v22/series/AMECO/UDGG.csv?dimensions=%7B%22freq%22%3A%5B%22a%22%5D%2C%22unit%22%3A%5B%22percentage-of-gdp-at-current-prices-excessive-deficit-procedure%22%5D%2C%22geo%22%3A%5B%22deu%22%2C%22ita%22%2C%22fra%22%2C%22esp%22%5D%7D&limit=1000\"\n",
    "\n",
    "df_debt = pd.read_csv(url)\n",
    "df_debt\n",
    "\n",
    "#df_debt.to_csv('Data/20241128_df_debt.csv', sep = \",\", index = False)"
   ]
  },
  {
   "cell_type": "code",
   "execution_count": 2,
   "id": "99c31588-c2bf-4a32-93c4-b92738542472",
   "metadata": {},
   "outputs": [
    {
     "data": {
      "text/html": [
       "<div>\n",
       "<style scoped>\n",
       "    .dataframe tbody tr th:only-of-type {\n",
       "        vertical-align: middle;\n",
       "    }\n",
       "\n",
       "    .dataframe tbody tr th {\n",
       "        vertical-align: top;\n",
       "    }\n",
       "\n",
       "    .dataframe thead th {\n",
       "        text-align: right;\n",
       "    }\n",
       "</style>\n",
       "<table border=\"1\" class=\"dataframe\">\n",
       "  <thead>\n",
       "    <tr style=\"text-align: right;\">\n",
       "      <th></th>\n",
       "      <th>Year</th>\n",
       "      <th>Germany</th>\n",
       "      <th>Spain</th>\n",
       "      <th>France</th>\n",
       "      <th>Italy</th>\n",
       "    </tr>\n",
       "  </thead>\n",
       "  <tbody>\n",
       "    <tr>\n",
       "      <th>0</th>\n",
       "      <td>1960</td>\n",
       "      <td>NaN</td>\n",
       "      <td>NaN</td>\n",
       "      <td>NaN</td>\n",
       "      <td>31.7953</td>\n",
       "    </tr>\n",
       "    <tr>\n",
       "      <th>1</th>\n",
       "      <td>1961</td>\n",
       "      <td>NaN</td>\n",
       "      <td>NaN</td>\n",
       "      <td>NaN</td>\n",
       "      <td>29.9336</td>\n",
       "    </tr>\n",
       "    <tr>\n",
       "      <th>2</th>\n",
       "      <td>1962</td>\n",
       "      <td>NaN</td>\n",
       "      <td>NaN</td>\n",
       "      <td>NaN</td>\n",
       "      <td>28.7905</td>\n",
       "    </tr>\n",
       "    <tr>\n",
       "      <th>3</th>\n",
       "      <td>1963</td>\n",
       "      <td>NaN</td>\n",
       "      <td>NaN</td>\n",
       "      <td>NaN</td>\n",
       "      <td>26.8476</td>\n",
       "    </tr>\n",
       "    <tr>\n",
       "      <th>4</th>\n",
       "      <td>1964</td>\n",
       "      <td>NaN</td>\n",
       "      <td>NaN</td>\n",
       "      <td>NaN</td>\n",
       "      <td>26.6785</td>\n",
       "    </tr>\n",
       "    <tr>\n",
       "      <th>...</th>\n",
       "      <td>...</td>\n",
       "      <td>...</td>\n",
       "      <td>...</td>\n",
       "      <td>...</td>\n",
       "      <td>...</td>\n",
       "    </tr>\n",
       "    <tr>\n",
       "      <th>61</th>\n",
       "      <td>2021</td>\n",
       "      <td>68.9861</td>\n",
       "      <td>116.8408</td>\n",
       "      <td>112.9733</td>\n",
       "      <td>147.1270</td>\n",
       "    </tr>\n",
       "    <tr>\n",
       "      <th>62</th>\n",
       "      <td>2022</td>\n",
       "      <td>66.0769</td>\n",
       "      <td>111.6180</td>\n",
       "      <td>111.9182</td>\n",
       "      <td>140.5217</td>\n",
       "    </tr>\n",
       "    <tr>\n",
       "      <th>63</th>\n",
       "      <td>2023</td>\n",
       "      <td>63.6391</td>\n",
       "      <td>107.6521</td>\n",
       "      <td>110.6433</td>\n",
       "      <td>137.3104</td>\n",
       "    </tr>\n",
       "    <tr>\n",
       "      <th>64</th>\n",
       "      <td>2024</td>\n",
       "      <td>62.9344</td>\n",
       "      <td>105.5079</td>\n",
       "      <td>112.4088</td>\n",
       "      <td>138.6244</td>\n",
       "    </tr>\n",
       "    <tr>\n",
       "      <th>65</th>\n",
       "      <td>2025</td>\n",
       "      <td>62.1991</td>\n",
       "      <td>104.8290</td>\n",
       "      <td>113.8249</td>\n",
       "      <td>141.6909</td>\n",
       "    </tr>\n",
       "  </tbody>\n",
       "</table>\n",
       "<p>66 rows × 5 columns</p>\n",
       "</div>"
      ],
      "text/plain": [
       "    Year  Germany     Spain    France     Italy\n",
       "0   1960      NaN       NaN       NaN   31.7953\n",
       "1   1961      NaN       NaN       NaN   29.9336\n",
       "2   1962      NaN       NaN       NaN   28.7905\n",
       "3   1963      NaN       NaN       NaN   26.8476\n",
       "4   1964      NaN       NaN       NaN   26.6785\n",
       "..   ...      ...       ...       ...       ...\n",
       "61  2021  68.9861  116.8408  112.9733  147.1270\n",
       "62  2022  66.0769  111.6180  111.9182  140.5217\n",
       "63  2023  63.6391  107.6521  110.6433  137.3104\n",
       "64  2024  62.9344  105.5079  112.4088  138.6244\n",
       "65  2025  62.1991  104.8290  113.8249  141.6909\n",
       "\n",
       "[66 rows x 5 columns]"
      ]
     },
     "execution_count": 2,
     "metadata": {},
     "output_type": "execute_result"
    }
   ],
   "source": [
    "new_names = {df_debt.columns[0]: 'Year',\n",
    "            df_debt.columns[1]:'Germany',\n",
    "            df_debt.columns[2]: 'Spain',\n",
    "            df_debt.columns[3]: 'France',\n",
    "            df_debt.columns[4]: \"Italy\"}\n",
    "\n",
    "df_debt.rename(columns = new_names, inplace  = True) \n",
    "df_debt"
   ]
  },
  {
   "cell_type": "code",
   "execution_count": 3,
   "id": "aa917b7d-43bc-478f-89dd-e380bb32e1ca",
   "metadata": {},
   "outputs": [
    {
     "data": {
      "text/plain": [
       "Year        0\n",
       "Germany    35\n",
       "Spain      35\n",
       "France     35\n",
       "Italy       0\n",
       "dtype: int64"
      ]
     },
     "execution_count": 3,
     "metadata": {},
     "output_type": "execute_result"
    }
   ],
   "source": [
    "df_debt.isna().sum()"
   ]
  },
  {
   "cell_type": "code",
   "execution_count": 4,
   "id": "a06016ef-deeb-46b3-b483-3b15c9bd0da0",
   "metadata": {},
   "outputs": [],
   "source": [
    "df_debt.dropna()\n",
    "df_debt.reset_index(drop = True, inplace = True)  # sonst beginnt der Index bei 35 oder irgendeiner Zahl, nicht bei 0 "
   ]
  },
  {
   "cell_type": "code",
   "execution_count": 5,
   "id": "75f8e314-05b5-433b-bc0b-7e7d86dbb739",
   "metadata": {},
   "outputs": [
    {
     "data": {
      "text/plain": [
       "<matplotlib.legend.Legend at 0x1bbb06a0c20>"
      ]
     },
     "execution_count": 5,
     "metadata": {},
     "output_type": "execute_result"
    },
    {
     "data": {
      "image/png": "[encoded data removed]",
      "text/plain": [
       "<Figure size 640x480 with 1 Axes>"
      ]
     },
     "metadata": {},
     "output_type": "display_data"
    }
   ],
   "source": [
    "x = df_debt[\"Year\"]\n",
    "countries = [\"Germany\",\"Spain\",\"France\",\"Italy\"]\n",
    "\n",
    "for country in countries: \n",
    "    plt.plot(x, df_debt[country], label = country) \n",
    "\n",
    "plt.legend()"
   ]
  },
  {
   "cell_type": "code",
   "execution_count": 6,
   "id": "10b93ce5-32e1-4df4-9e1f-050100ab1770",
   "metadata": {},
   "outputs": [],
   "source": [
    "# From wide to long format (panel dataset)\n",
    "df_debt_long = pd.melt(\n",
    "    df_debt,\n",
    "    id_vars = 'Year',  #\n",
    "    var_name = 'Country',\n",
    "    value_name = 'Debt ratio'\n",
    ")\n"
   ]
  },
  {
   "cell_type": "code",
   "execution_count": 7,
   "id": "6f0780da-dfe3-4aba-8e12-806628357770",
   "metadata": {},
   "outputs": [
    {
     "data": {
      "text/plain": [
       "<Axes: xlabel='Year', ylabel='Debt ratio'>"
      ]
     },
     "execution_count": 7,
     "metadata": {},
     "output_type": "execute_result"
    },
    {
     "data": {
      "image/png": "[encoded data removed]",
      "text/plain": [
       "<Figure size 640x480 with 1 Axes>"
      ]
     },
     "metadata": {},
     "output_type": "display_data"
    }
   ],
   "source": [
    "sns.lineplot(x= 'Year', y = 'Debt ratio', hue = 'Country', data = df_debt_long)"
   ]
  },
  {
   "cell_type": "code",
   "execution_count": 8,
   "id": "6aeb1d52-a17f-4e0a-b7fe-9186cdd01c60",
   "metadata": {},
   "outputs": [
    {
     "data": {
      "text/html": [
       "<div>\n",
       "<style scoped>\n",
       "    .dataframe tbody tr th:only-of-type {\n",
       "        vertical-align: middle;\n",
       "    }\n",
       "\n",
       "    .dataframe tbody tr th {\n",
       "        vertical-align: top;\n",
       "    }\n",
       "\n",
       "    .dataframe thead th {\n",
       "        text-align: right;\n",
       "    }\n",
       "</style>\n",
       "<table border=\"1\" class=\"dataframe\">\n",
       "  <thead>\n",
       "    <tr style=\"text-align: right;\">\n",
       "      <th>Country</th>\n",
       "      <th>Year</th>\n",
       "      <th>France</th>\n",
       "      <th>Germany</th>\n",
       "      <th>Italy</th>\n",
       "      <th>Spain</th>\n",
       "    </tr>\n",
       "  </thead>\n",
       "  <tbody>\n",
       "    <tr>\n",
       "      <th>0</th>\n",
       "      <td>1960</td>\n",
       "      <td>NaN</td>\n",
       "      <td>NaN</td>\n",
       "      <td>31.7953</td>\n",
       "      <td>NaN</td>\n",
       "    </tr>\n",
       "    <tr>\n",
       "      <th>1</th>\n",
       "      <td>1961</td>\n",
       "      <td>NaN</td>\n",
       "      <td>NaN</td>\n",
       "      <td>29.9336</td>\n",
       "      <td>NaN</td>\n",
       "    </tr>\n",
       "    <tr>\n",
       "      <th>2</th>\n",
       "      <td>1962</td>\n",
       "      <td>NaN</td>\n",
       "      <td>NaN</td>\n",
       "      <td>28.7905</td>\n",
       "      <td>NaN</td>\n",
       "    </tr>\n",
       "    <tr>\n",
       "      <th>3</th>\n",
       "      <td>1963</td>\n",
       "      <td>NaN</td>\n",
       "      <td>NaN</td>\n",
       "      <td>26.8476</td>\n",
       "      <td>NaN</td>\n",
       "    </tr>\n",
       "    <tr>\n",
       "      <th>4</th>\n",
       "      <td>1964</td>\n",
       "      <td>NaN</td>\n",
       "      <td>NaN</td>\n",
       "      <td>26.6785</td>\n",
       "      <td>NaN</td>\n",
       "    </tr>\n",
       "    <tr>\n",
       "      <th>...</th>\n",
       "      <td>...</td>\n",
       "      <td>...</td>\n",
       "      <td>...</td>\n",
       "      <td>...</td>\n",
       "      <td>...</td>\n",
       "    </tr>\n",
       "    <tr>\n",
       "      <th>61</th>\n",
       "      <td>2021</td>\n",
       "      <td>112.9733</td>\n",
       "      <td>68.9861</td>\n",
       "      <td>147.1270</td>\n",
       "      <td>116.8408</td>\n",
       "    </tr>\n",
       "    <tr>\n",
       "      <th>62</th>\n",
       "      <td>2022</td>\n",
       "      <td>111.9182</td>\n",
       "      <td>66.0769</td>\n",
       "      <td>140.5217</td>\n",
       "      <td>111.6180</td>\n",
       "    </tr>\n",
       "    <tr>\n",
       "      <th>63</th>\n",
       "      <td>2023</td>\n",
       "      <td>110.6433</td>\n",
       "      <td>63.6391</td>\n",
       "      <td>137.3104</td>\n",
       "      <td>107.6521</td>\n",
       "    </tr>\n",
       "    <tr>\n",
       "      <th>64</th>\n",
       "      <td>2024</td>\n",
       "      <td>112.4088</td>\n",
       "      <td>62.9344</td>\n",
       "      <td>138.6244</td>\n",
       "      <td>105.5079</td>\n",
       "    </tr>\n",
       "    <tr>\n",
       "      <th>65</th>\n",
       "      <td>2025</td>\n",
       "      <td>113.8249</td>\n",
       "      <td>62.1991</td>\n",
       "      <td>141.6909</td>\n",
       "      <td>104.8290</td>\n",
       "    </tr>\n",
       "  </tbody>\n",
       "</table>\n",
       "<p>66 rows × 5 columns</p>\n",
       "</div>"
      ],
      "text/plain": [
       "Country  Year    France  Germany     Italy     Spain\n",
       "0        1960       NaN      NaN   31.7953       NaN\n",
       "1        1961       NaN      NaN   29.9336       NaN\n",
       "2        1962       NaN      NaN   28.7905       NaN\n",
       "3        1963       NaN      NaN   26.8476       NaN\n",
       "4        1964       NaN      NaN   26.6785       NaN\n",
       "..        ...       ...      ...       ...       ...\n",
       "61       2021  112.9733  68.9861  147.1270  116.8408\n",
       "62       2022  111.9182  66.0769  140.5217  111.6180\n",
       "63       2023  110.6433  63.6391  137.3104  107.6521\n",
       "64       2024  112.4088  62.9344  138.6244  105.5079\n",
       "65       2025  113.8249  62.1991  141.6909  104.8290\n",
       "\n",
       "[66 rows x 5 columns]"
      ]
     },
     "execution_count": 8,
     "metadata": {},
     "output_type": "execute_result"
    }
   ],
   "source": [
    "# from long to wide \n",
    "df_debt_wide = pd.pivot(\n",
    "    df_debt_long,\n",
    "    index = 'Year', \n",
    "    columns = 'Country', \n",
    "    values = 'Debt ratio'\n",
    ").reset_index()\n",
    "df_debt_wide  # 'Country' in erster Spalte ist Index "
   ]
  },
  {
   "cell_type": "code",
   "execution_count": 9,
   "id": "1fd154e1-fba7-4bf0-8ff9-0e6763c6fde1",
   "metadata": {},
   "outputs": [],
   "source": [
    "# Übung 2 - Exercise 17: \n"
   ]
  },
  {
   "cell_type": "code",
   "execution_count": 10,
   "id": "f1f55d85-3c01-413b-b56e-e695b57823a6",
   "metadata": {},
   "outputs": [
    {
     "data": {
      "text/html": [
       "<div>\n",
       "<style scoped>\n",
       "    .dataframe tbody tr th:only-of-type {\n",
       "        vertical-align: middle;\n",
       "    }\n",
       "\n",
       "    .dataframe tbody tr th {\n",
       "        vertical-align: top;\n",
       "    }\n",
       "\n",
       "    .dataframe thead th {\n",
       "        text-align: right;\n",
       "    }\n",
       "</style>\n",
       "<table border=\"1\" class=\"dataframe\">\n",
       "  <thead>\n",
       "    <tr style=\"text-align: right;\">\n",
       "      <th></th>\n",
       "      <th>country</th>\n",
       "      <th>continent</th>\n",
       "      <th>year</th>\n",
       "      <th>lifeExp</th>\n",
       "      <th>pop</th>\n",
       "      <th>gdpPercap</th>\n",
       "    </tr>\n",
       "  </thead>\n",
       "  <tbody>\n",
       "    <tr>\n",
       "      <th>0</th>\n",
       "      <td>Afghanistan</td>\n",
       "      <td>Asia</td>\n",
       "      <td>1952</td>\n",
       "      <td>28.801</td>\n",
       "      <td>8425333</td>\n",
       "      <td>779.445314</td>\n",
       "    </tr>\n",
       "    <tr>\n",
       "      <th>1</th>\n",
       "      <td>Afghanistan</td>\n",
       "      <td>Asia</td>\n",
       "      <td>1957</td>\n",
       "      <td>30.332</td>\n",
       "      <td>9240934</td>\n",
       "      <td>820.853030</td>\n",
       "    </tr>\n",
       "    <tr>\n",
       "      <th>2</th>\n",
       "      <td>Afghanistan</td>\n",
       "      <td>Asia</td>\n",
       "      <td>1962</td>\n",
       "      <td>31.997</td>\n",
       "      <td>10267083</td>\n",
       "      <td>853.100710</td>\n",
       "    </tr>\n",
       "    <tr>\n",
       "      <th>3</th>\n",
       "      <td>Afghanistan</td>\n",
       "      <td>Asia</td>\n",
       "      <td>1967</td>\n",
       "      <td>34.020</td>\n",
       "      <td>11537966</td>\n",
       "      <td>836.197138</td>\n",
       "    </tr>\n",
       "    <tr>\n",
       "      <th>4</th>\n",
       "      <td>Afghanistan</td>\n",
       "      <td>Asia</td>\n",
       "      <td>1972</td>\n",
       "      <td>36.088</td>\n",
       "      <td>13079460</td>\n",
       "      <td>739.981106</td>\n",
       "    </tr>\n",
       "    <tr>\n",
       "      <th>...</th>\n",
       "      <td>...</td>\n",
       "      <td>...</td>\n",
       "      <td>...</td>\n",
       "      <td>...</td>\n",
       "      <td>...</td>\n",
       "      <td>...</td>\n",
       "    </tr>\n",
       "    <tr>\n",
       "      <th>1699</th>\n",
       "      <td>Zimbabwe</td>\n",
       "      <td>Africa</td>\n",
       "      <td>1987</td>\n",
       "      <td>62.351</td>\n",
       "      <td>9216418</td>\n",
       "      <td>706.157306</td>\n",
       "    </tr>\n",
       "    <tr>\n",
       "      <th>1700</th>\n",
       "      <td>Zimbabwe</td>\n",
       "      <td>Africa</td>\n",
       "      <td>1992</td>\n",
       "      <td>60.377</td>\n",
       "      <td>10704340</td>\n",
       "      <td>693.420786</td>\n",
       "    </tr>\n",
       "    <tr>\n",
       "      <th>1701</th>\n",
       "      <td>Zimbabwe</td>\n",
       "      <td>Africa</td>\n",
       "      <td>1997</td>\n",
       "      <td>46.809</td>\n",
       "      <td>11404948</td>\n",
       "      <td>792.449960</td>\n",
       "    </tr>\n",
       "    <tr>\n",
       "      <th>1702</th>\n",
       "      <td>Zimbabwe</td>\n",
       "      <td>Africa</td>\n",
       "      <td>2002</td>\n",
       "      <td>39.989</td>\n",
       "      <td>11926563</td>\n",
       "      <td>672.038623</td>\n",
       "    </tr>\n",
       "    <tr>\n",
       "      <th>1703</th>\n",
       "      <td>Zimbabwe</td>\n",
       "      <td>Africa</td>\n",
       "      <td>2007</td>\n",
       "      <td>43.487</td>\n",
       "      <td>12311143</td>\n",
       "      <td>469.709298</td>\n",
       "    </tr>\n",
       "  </tbody>\n",
       "</table>\n",
       "<p>1704 rows × 6 columns</p>\n",
       "</div>"
      ],
      "text/plain": [
       "          country continent  year  lifeExp       pop   gdpPercap\n",
       "0     Afghanistan      Asia  1952   28.801   8425333  779.445314\n",
       "1     Afghanistan      Asia  1957   30.332   9240934  820.853030\n",
       "2     Afghanistan      Asia  1962   31.997  10267083  853.100710\n",
       "3     Afghanistan      Asia  1967   34.020  11537966  836.197138\n",
       "4     Afghanistan      Asia  1972   36.088  13079460  739.981106\n",
       "...           ...       ...   ...      ...       ...         ...\n",
       "1699     Zimbabwe    Africa  1987   62.351   9216418  706.157306\n",
       "1700     Zimbabwe    Africa  1992   60.377  10704340  693.420786\n",
       "1701     Zimbabwe    Africa  1997   46.809  11404948  792.449960\n",
       "1702     Zimbabwe    Africa  2002   39.989  11926563  672.038623\n",
       "1703     Zimbabwe    Africa  2007   43.487  12311143  469.709298\n",
       "\n",
       "[1704 rows x 6 columns]"
      ]
     },
     "execution_count": 10,
     "metadata": {},
     "output_type": "execute_result"
    }
   ],
   "source": [
    "df_gapminder = pd.read_csv('Data/gapminder.csv', sep = \",\", decimal = \".\")\n",
    "df_gapminder"
   ]
  },
  {
   "cell_type": "code",
   "execution_count": 11,
   "id": "86ad28ee-b146-4924-a858-3c318be15073",
   "metadata": {},
   "outputs": [
    {
     "data": {
      "text/plain": [
       "country       object\n",
       "continent     object\n",
       "year           int64\n",
       "lifeExp      float64\n",
       "pop            int64\n",
       "gdpPercap    float64\n",
       "dtype: object"
      ]
     },
     "execution_count": 11,
     "metadata": {},
     "output_type": "execute_result"
    }
   ],
   "source": [
    "df_gapminder.dtypes"
   ]
  },
  {
   "cell_type": "code",
   "execution_count": 12,
   "id": "2ee9394e-1f8d-469c-96f0-9b68b3769ccd",
   "metadata": {},
   "outputs": [
    {
     "data": {
      "text/plain": [
       "array(['Afghanistan', 'Albania', 'Algeria', 'Angola', 'Argentina',\n",
       "       'Australia', 'Austria', 'Bahrain', 'Bangladesh', 'Belgium',\n",
       "       'Benin', 'Bolivia', 'Bosnia and Herzegovina', 'Botswana', 'Brazil',\n",
       "       'Bulgaria', 'Burkina Faso', 'Burundi', 'Cambodia', 'Cameroon',\n",
       "       'Canada', 'Central African Republic', 'Chad', 'Chile', 'China',\n",
       "       'Colombia', 'Comoros', 'Congo, Dem. Rep.', 'Congo, Rep.',\n",
       "       'Costa Rica', \"Cote d'Ivoire\", 'Croatia', 'Cuba', 'Czech Republic',\n",
       "       'Denmark', 'Djibouti', 'Dominican Republic', 'Ecuador', 'Egypt',\n",
       "       'El Salvador', 'Equatorial Guinea', 'Eritrea', 'Ethiopia',\n",
       "       'Finland', 'France', 'Gabon', 'Gambia', 'Germany', 'Ghana',\n",
       "       'Greece', 'Guatemala', 'Guinea', 'Guinea-Bissau', 'Haiti',\n",
       "       'Honduras', 'Hong Kong, China', 'Hungary', 'Iceland', 'India',\n",
       "       'Indonesia', 'Iran', 'Iraq', 'Ireland', 'Israel', 'Italy',\n",
       "       'Jamaica', 'Japan', 'Jordan', 'Kenya', 'Korea, Dem. Rep.',\n",
       "       'Korea, Rep.', 'Kuwait', 'Lebanon', 'Lesotho', 'Liberia', 'Libya',\n",
       "       'Madagascar', 'Malawi', 'Malaysia', 'Mali', 'Mauritania',\n",
       "       'Mauritius', 'Mexico', 'Mongolia', 'Montenegro', 'Morocco',\n",
       "       'Mozambique', 'Myanmar', 'Namibia', 'Nepal', 'Netherlands',\n",
       "       'New Zealand', 'Nicaragua', 'Niger', 'Nigeria', 'Norway', 'Oman',\n",
       "       'Pakistan', 'Panama', 'Paraguay', 'Peru', 'Philippines', 'Poland',\n",
       "       'Portugal', 'Puerto Rico', 'Reunion', 'Romania', 'Rwanda',\n",
       "       'Sao Tome and Principe', 'Saudi Arabia', 'Senegal', 'Serbia',\n",
       "       'Sierra Leone', 'Singapore', 'Slovak Republic', 'Slovenia',\n",
       "       'Somalia', 'South Africa', 'Spain', 'Sri Lanka', 'Sudan',\n",
       "       'Swaziland', 'Sweden', 'Switzerland', 'Syria', 'Taiwan',\n",
       "       'Tanzania', 'Thailand', 'Togo', 'Trinidad and Tobago', 'Tunisia',\n",
       "       'Turkey', 'Uganda', 'United Kingdom', 'United States', 'Uruguay',\n",
       "       'Venezuela', 'Vietnam', 'West Bank and Gaza', 'Yemen, Rep.',\n",
       "       'Zambia', 'Zimbabwe'], dtype=object)"
      ]
     },
     "execution_count": 12,
     "metadata": {},
     "output_type": "execute_result"
    }
   ],
   "source": [
    "country_list = df_gapminder['country'].unique()\n",
    "country_list"
   ]
  },
  {
   "cell_type": "code",
   "execution_count": 13,
   "id": "4fe51f66-8e96-4db8-acd0-8240771950f0",
   "metadata": {},
   "outputs": [
    {
     "data": {
      "text/plain": [
       "142"
      ]
     },
     "execution_count": 13,
     "metadata": {},
     "output_type": "execute_result"
    }
   ],
   "source": [
    "len(country_list)\n",
    "# alternative: \n",
    "# country_count = country_list['country'].nunique()"
   ]
  },
  {
   "cell_type": "code",
   "execution_count": 14,
   "id": "a555a938-777c-49f1-b904-44d53030d219",
   "metadata": {},
   "outputs": [
    {
     "data": {
      "text/plain": [
       "country\n",
       "Afghanistan           12\n",
       "Albania               12\n",
       "Algeria               12\n",
       "Angola                12\n",
       "Argentina             12\n",
       "                      ..\n",
       "Vietnam               12\n",
       "West Bank and Gaza    12\n",
       "Yemen, Rep.           12\n",
       "Zambia                12\n",
       "Zimbabwe              12\n",
       "Name: year, Length: 142, dtype: int64"
      ]
     },
     "execution_count": 14,
     "metadata": {},
     "output_type": "execute_result"
    }
   ],
   "source": [
    "# count years per country \n",
    "years_count = df_gapminder.groupby('country')['year'].count() \n",
    "years_count"
   ]
  },
  {
   "cell_type": "code",
   "execution_count": 15,
   "id": "3079e0b4-ddb9-45ee-8247-1cccfe3dd064",
   "metadata": {},
   "outputs": [
    {
     "data": {
      "text/plain": [
       "continent\n",
       "Africa      52\n",
       "Americas    25\n",
       "Asia        33\n",
       "Europe      30\n",
       "Oceania      2\n",
       "Name: country, dtype: int64"
      ]
     },
     "execution_count": 15,
     "metadata": {},
     "output_type": "execute_result"
    }
   ],
   "source": [
    "countries_cont_2007 = df_gapminder[df_gapminder[\"year\"] == 2007].groupby(['continent'])['country'].count()\n",
    "countries_cont_2007"
   ]
  },
  {
   "cell_type": "code",
   "execution_count": 16,
   "id": "fd4c1175-9c84-4efd-960e-984526065c93",
   "metadata": {},
   "outputs": [
    {
     "data": {
      "text/html": [
       "<div>\n",
       "<style scoped>\n",
       "    .dataframe tbody tr th:only-of-type {\n",
       "        vertical-align: middle;\n",
       "    }\n",
       "\n",
       "    .dataframe tbody tr th {\n",
       "        vertical-align: top;\n",
       "    }\n",
       "\n",
       "    .dataframe thead th {\n",
       "        text-align: right;\n",
       "    }\n",
       "</style>\n",
       "<table border=\"1\" class=\"dataframe\">\n",
       "  <thead>\n",
       "    <tr style=\"text-align: right;\">\n",
       "      <th></th>\n",
       "      <th>index</th>\n",
       "      <th>year</th>\n",
       "      <th>lifeExp</th>\n",
       "      <th>pop</th>\n",
       "      <th>gdpPercap</th>\n",
       "    </tr>\n",
       "  </thead>\n",
       "  <tbody>\n",
       "    <tr>\n",
       "      <th>0</th>\n",
       "      <td>564</td>\n",
       "      <td>1952</td>\n",
       "      <td>67.500</td>\n",
       "      <td>69145952</td>\n",
       "      <td>7144.114393</td>\n",
       "    </tr>\n",
       "    <tr>\n",
       "      <th>1</th>\n",
       "      <td>565</td>\n",
       "      <td>1957</td>\n",
       "      <td>69.100</td>\n",
       "      <td>71019069</td>\n",
       "      <td>10187.826650</td>\n",
       "    </tr>\n",
       "    <tr>\n",
       "      <th>2</th>\n",
       "      <td>566</td>\n",
       "      <td>1962</td>\n",
       "      <td>70.300</td>\n",
       "      <td>73739117</td>\n",
       "      <td>12902.462910</td>\n",
       "    </tr>\n",
       "    <tr>\n",
       "      <th>3</th>\n",
       "      <td>567</td>\n",
       "      <td>1967</td>\n",
       "      <td>70.800</td>\n",
       "      <td>76368453</td>\n",
       "      <td>14745.625610</td>\n",
       "    </tr>\n",
       "    <tr>\n",
       "      <th>4</th>\n",
       "      <td>568</td>\n",
       "      <td>1972</td>\n",
       "      <td>71.000</td>\n",
       "      <td>78717088</td>\n",
       "      <td>18016.180270</td>\n",
       "    </tr>\n",
       "    <tr>\n",
       "      <th>5</th>\n",
       "      <td>569</td>\n",
       "      <td>1977</td>\n",
       "      <td>72.500</td>\n",
       "      <td>78160773</td>\n",
       "      <td>20512.921230</td>\n",
       "    </tr>\n",
       "    <tr>\n",
       "      <th>6</th>\n",
       "      <td>570</td>\n",
       "      <td>1982</td>\n",
       "      <td>73.800</td>\n",
       "      <td>78335266</td>\n",
       "      <td>22031.532740</td>\n",
       "    </tr>\n",
       "    <tr>\n",
       "      <th>7</th>\n",
       "      <td>571</td>\n",
       "      <td>1987</td>\n",
       "      <td>74.847</td>\n",
       "      <td>77718298</td>\n",
       "      <td>24639.185660</td>\n",
       "    </tr>\n",
       "    <tr>\n",
       "      <th>8</th>\n",
       "      <td>572</td>\n",
       "      <td>1992</td>\n",
       "      <td>76.070</td>\n",
       "      <td>80597764</td>\n",
       "      <td>26505.303170</td>\n",
       "    </tr>\n",
       "    <tr>\n",
       "      <th>9</th>\n",
       "      <td>573</td>\n",
       "      <td>1997</td>\n",
       "      <td>77.340</td>\n",
       "      <td>82011073</td>\n",
       "      <td>27788.884160</td>\n",
       "    </tr>\n",
       "    <tr>\n",
       "      <th>10</th>\n",
       "      <td>574</td>\n",
       "      <td>2002</td>\n",
       "      <td>78.670</td>\n",
       "      <td>82350671</td>\n",
       "      <td>30035.801980</td>\n",
       "    </tr>\n",
       "    <tr>\n",
       "      <th>11</th>\n",
       "      <td>575</td>\n",
       "      <td>2007</td>\n",
       "      <td>79.406</td>\n",
       "      <td>82400996</td>\n",
       "      <td>32170.374420</td>\n",
       "    </tr>\n",
       "  </tbody>\n",
       "</table>\n",
       "</div>"
      ],
      "text/plain": [
       "    index  year  lifeExp       pop     gdpPercap\n",
       "0     564  1952   67.500  69145952   7144.114393\n",
       "1     565  1957   69.100  71019069  10187.826650\n",
       "2     566  1962   70.300  73739117  12902.462910\n",
       "3     567  1967   70.800  76368453  14745.625610\n",
       "4     568  1972   71.000  78717088  18016.180270\n",
       "5     569  1977   72.500  78160773  20512.921230\n",
       "6     570  1982   73.800  78335266  22031.532740\n",
       "7     571  1987   74.847  77718298  24639.185660\n",
       "8     572  1992   76.070  80597764  26505.303170\n",
       "9     573  1997   77.340  82011073  27788.884160\n",
       "10    574  2002   78.670  82350671  30035.801980\n",
       "11    575  2007   79.406  82400996  32170.374420"
      ]
     },
     "execution_count": 16,
     "metadata": {},
     "output_type": "execute_result"
    }
   ],
   "source": [
    "df_germany = df_gapminder[df_gapminder.country == 'Germany'].select_dtypes(include = 'number').reset_index()\n",
    "df_germany"
   ]
  },
  {
   "cell_type": "code",
   "execution_count": 17,
   "id": "12568044-6a7f-418e-a84f-7fb3d0e0a3c3",
   "metadata": {},
   "outputs": [],
   "source": [
    "df_germany.to_csv(\"Data/germany_gapminder.csv\", sep = \",\", decimal = \".\", index = False)"
   ]
  },
  {
   "cell_type": "code",
   "execution_count": 18,
   "id": "70b03a34-93b0-410c-8f9a-0a6b18b1caa5",
   "metadata": {},
   "outputs": [
    {
     "data": {
      "text/html": [
       "<div>\n",
       "<style scoped>\n",
       "    .dataframe tbody tr th:only-of-type {\n",
       "        vertical-align: middle;\n",
       "    }\n",
       "\n",
       "    .dataframe tbody tr th {\n",
       "        vertical-align: top;\n",
       "    }\n",
       "\n",
       "    .dataframe thead th {\n",
       "        text-align: right;\n",
       "    }\n",
       "</style>\n",
       "<table border=\"1\" class=\"dataframe\">\n",
       "  <thead>\n",
       "    <tr style=\"text-align: right;\">\n",
       "      <th></th>\n",
       "      <th>lifeExp</th>\n",
       "      <th>pop</th>\n",
       "      <th>gdpPercap</th>\n",
       "    </tr>\n",
       "    <tr>\n",
       "      <th>country</th>\n",
       "      <th></th>\n",
       "      <th></th>\n",
       "      <th></th>\n",
       "    </tr>\n",
       "  </thead>\n",
       "  <tbody>\n",
       "    <tr>\n",
       "      <th>Afghanistan</th>\n",
       "      <td>37.478833</td>\n",
       "      <td>1.582372e+07</td>\n",
       "      <td>802.674598</td>\n",
       "    </tr>\n",
       "    <tr>\n",
       "      <th>Albania</th>\n",
       "      <td>68.432917</td>\n",
       "      <td>2.580249e+06</td>\n",
       "      <td>3255.366633</td>\n",
       "    </tr>\n",
       "    <tr>\n",
       "      <th>Algeria</th>\n",
       "      <td>59.030167</td>\n",
       "      <td>1.987541e+07</td>\n",
       "      <td>4426.025973</td>\n",
       "    </tr>\n",
       "    <tr>\n",
       "      <th>Angola</th>\n",
       "      <td>37.883500</td>\n",
       "      <td>7.309390e+06</td>\n",
       "      <td>3607.100529</td>\n",
       "    </tr>\n",
       "    <tr>\n",
       "      <th>Argentina</th>\n",
       "      <td>69.060417</td>\n",
       "      <td>2.860224e+07</td>\n",
       "      <td>8955.553783</td>\n",
       "    </tr>\n",
       "    <tr>\n",
       "      <th>...</th>\n",
       "      <td>...</td>\n",
       "      <td>...</td>\n",
       "      <td>...</td>\n",
       "    </tr>\n",
       "    <tr>\n",
       "      <th>Vietnam</th>\n",
       "      <td>57.479500</td>\n",
       "      <td>5.456857e+07</td>\n",
       "      <td>1017.712615</td>\n",
       "    </tr>\n",
       "    <tr>\n",
       "      <th>West Bank and Gaza</th>\n",
       "      <td>60.328667</td>\n",
       "      <td>1.848606e+06</td>\n",
       "      <td>3759.996781</td>\n",
       "    </tr>\n",
       "    <tr>\n",
       "      <th>Yemen, Rep.</th>\n",
       "      <td>46.780417</td>\n",
       "      <td>1.084319e+07</td>\n",
       "      <td>1569.274672</td>\n",
       "    </tr>\n",
       "    <tr>\n",
       "      <th>Zambia</th>\n",
       "      <td>45.996333</td>\n",
       "      <td>6.353805e+06</td>\n",
       "      <td>1358.199409</td>\n",
       "    </tr>\n",
       "    <tr>\n",
       "      <th>Zimbabwe</th>\n",
       "      <td>52.663167</td>\n",
       "      <td>7.641966e+06</td>\n",
       "      <td>635.858042</td>\n",
       "    </tr>\n",
       "  </tbody>\n",
       "</table>\n",
       "<p>142 rows × 3 columns</p>\n",
       "</div>"
      ],
      "text/plain": [
       "                      lifeExp           pop    gdpPercap\n",
       "country                                                 \n",
       "Afghanistan         37.478833  1.582372e+07   802.674598\n",
       "Albania             68.432917  2.580249e+06  3255.366633\n",
       "Algeria             59.030167  1.987541e+07  4426.025973\n",
       "Angola              37.883500  7.309390e+06  3607.100529\n",
       "Argentina           69.060417  2.860224e+07  8955.553783\n",
       "...                       ...           ...          ...\n",
       "Vietnam             57.479500  5.456857e+07  1017.712615\n",
       "West Bank and Gaza  60.328667  1.848606e+06  3759.996781\n",
       "Yemen, Rep.         46.780417  1.084319e+07  1569.274672\n",
       "Zambia              45.996333  6.353805e+06  1358.199409\n",
       "Zimbabwe            52.663167  7.641966e+06   635.858042\n",
       "\n",
       "[142 rows x 3 columns]"
      ]
     },
     "execution_count": 18,
     "metadata": {},
     "output_type": "execute_result"
    }
   ],
   "source": [
    "# Zeitlich Durchschnittswerte für Bevölkerung, BIP pro Kopf und Lebenserwartung nach Land \n",
    "df_gapminder.groupby('country')[['lifeExp','pop','gdpPercap']].mean()"
   ]
  },
  {
   "cell_type": "code",
   "execution_count": 19,
   "id": "9ff06179-1668-4e39-9453-7f10cf64dded",
   "metadata": {},
   "outputs": [
    {
     "data": {
      "text/html": [
       "<div>\n",
       "<style scoped>\n",
       "    .dataframe tbody tr th:only-of-type {\n",
       "        vertical-align: middle;\n",
       "    }\n",
       "\n",
       "    .dataframe tbody tr th {\n",
       "        vertical-align: top;\n",
       "    }\n",
       "\n",
       "    .dataframe thead th {\n",
       "        text-align: right;\n",
       "    }\n",
       "</style>\n",
       "<table border=\"1\" class=\"dataframe\">\n",
       "  <thead>\n",
       "    <tr style=\"text-align: right;\">\n",
       "      <th></th>\n",
       "      <th>continent</th>\n",
       "      <th>lifeExp</th>\n",
       "      <th>pop</th>\n",
       "      <th>gdpPercap</th>\n",
       "      <th>Variable</th>\n",
       "    </tr>\n",
       "  </thead>\n",
       "  <tbody>\n",
       "    <tr>\n",
       "      <th>0</th>\n",
       "      <td>Africa</td>\n",
       "      <td>48.865330</td>\n",
       "      <td>9.916003e+06</td>\n",
       "      <td>2193.754578</td>\n",
       "      <td>Mean</td>\n",
       "    </tr>\n",
       "    <tr>\n",
       "      <th>1</th>\n",
       "      <td>Africa</td>\n",
       "      <td>47.792000</td>\n",
       "      <td>4.579311e+06</td>\n",
       "      <td>1192.138217</td>\n",
       "      <td>Median</td>\n",
       "    </tr>\n",
       "    <tr>\n",
       "      <th>2</th>\n",
       "      <td>Africa</td>\n",
       "      <td>23.599000</td>\n",
       "      <td>6.001100e+04</td>\n",
       "      <td>241.165876</td>\n",
       "      <td>Min</td>\n",
       "    </tr>\n",
       "    <tr>\n",
       "      <th>3</th>\n",
       "      <td>Africa</td>\n",
       "      <td>76.442000</td>\n",
       "      <td>1.350312e+08</td>\n",
       "      <td>21951.211760</td>\n",
       "      <td>Max</td>\n",
       "    </tr>\n",
       "    <tr>\n",
       "      <th>4</th>\n",
       "      <td>Americas</td>\n",
       "      <td>64.658737</td>\n",
       "      <td>2.450479e+07</td>\n",
       "      <td>7136.110356</td>\n",
       "      <td>Mean</td>\n",
       "    </tr>\n",
       "    <tr>\n",
       "      <th>5</th>\n",
       "      <td>Americas</td>\n",
       "      <td>67.048000</td>\n",
       "      <td>6.227510e+06</td>\n",
       "      <td>5465.509853</td>\n",
       "      <td>Median</td>\n",
       "    </tr>\n",
       "    <tr>\n",
       "      <th>6</th>\n",
       "      <td>Americas</td>\n",
       "      <td>37.579000</td>\n",
       "      <td>6.628500e+05</td>\n",
       "      <td>1201.637154</td>\n",
       "      <td>Min</td>\n",
       "    </tr>\n",
       "    <tr>\n",
       "      <th>7</th>\n",
       "      <td>Americas</td>\n",
       "      <td>80.653000</td>\n",
       "      <td>3.011399e+08</td>\n",
       "      <td>42951.653090</td>\n",
       "      <td>Max</td>\n",
       "    </tr>\n",
       "    <tr>\n",
       "      <th>8</th>\n",
       "      <td>Asia</td>\n",
       "      <td>60.064903</td>\n",
       "      <td>7.703872e+07</td>\n",
       "      <td>7902.150428</td>\n",
       "      <td>Mean</td>\n",
       "    </tr>\n",
       "    <tr>\n",
       "      <th>9</th>\n",
       "      <td>Asia</td>\n",
       "      <td>82.603000</td>\n",
       "      <td>1.318683e+09</td>\n",
       "      <td>113523.132900</td>\n",
       "      <td>Max</td>\n",
       "    </tr>\n",
       "    <tr>\n",
       "      <th>10</th>\n",
       "      <td>Asia</td>\n",
       "      <td>61.791500</td>\n",
       "      <td>1.453083e+07</td>\n",
       "      <td>2646.786844</td>\n",
       "      <td>Median</td>\n",
       "    </tr>\n",
       "    <tr>\n",
       "      <th>11</th>\n",
       "      <td>Asia</td>\n",
       "      <td>28.801000</td>\n",
       "      <td>1.204470e+05</td>\n",
       "      <td>331.000000</td>\n",
       "      <td>Min</td>\n",
       "    </tr>\n",
       "    <tr>\n",
       "      <th>12</th>\n",
       "      <td>Europe</td>\n",
       "      <td>71.903686</td>\n",
       "      <td>1.716976e+07</td>\n",
       "      <td>14469.475533</td>\n",
       "      <td>Mean</td>\n",
       "    </tr>\n",
       "    <tr>\n",
       "      <th>13</th>\n",
       "      <td>Europe</td>\n",
       "      <td>72.241000</td>\n",
       "      <td>8.551125e+06</td>\n",
       "      <td>12081.749115</td>\n",
       "      <td>Median</td>\n",
       "    </tr>\n",
       "    <tr>\n",
       "      <th>14</th>\n",
       "      <td>Europe</td>\n",
       "      <td>81.757000</td>\n",
       "      <td>8.240100e+07</td>\n",
       "      <td>49357.190170</td>\n",
       "      <td>Max</td>\n",
       "    </tr>\n",
       "    <tr>\n",
       "      <th>15</th>\n",
       "      <td>Europe</td>\n",
       "      <td>43.585000</td>\n",
       "      <td>1.479620e+05</td>\n",
       "      <td>973.533195</td>\n",
       "      <td>Min</td>\n",
       "    </tr>\n",
       "    <tr>\n",
       "      <th>16</th>\n",
       "      <td>Oceania</td>\n",
       "      <td>73.665000</td>\n",
       "      <td>6.403492e+06</td>\n",
       "      <td>17983.303955</td>\n",
       "      <td>Median</td>\n",
       "    </tr>\n",
       "    <tr>\n",
       "      <th>17</th>\n",
       "      <td>Oceania</td>\n",
       "      <td>74.326208</td>\n",
       "      <td>8.874672e+06</td>\n",
       "      <td>18621.609223</td>\n",
       "      <td>Mean</td>\n",
       "    </tr>\n",
       "    <tr>\n",
       "      <th>18</th>\n",
       "      <td>Oceania</td>\n",
       "      <td>69.120000</td>\n",
       "      <td>1.994794e+06</td>\n",
       "      <td>10039.595640</td>\n",
       "      <td>Min</td>\n",
       "    </tr>\n",
       "    <tr>\n",
       "      <th>19</th>\n",
       "      <td>Oceania</td>\n",
       "      <td>81.235000</td>\n",
       "      <td>2.043418e+07</td>\n",
       "      <td>34435.367440</td>\n",
       "      <td>Max</td>\n",
       "    </tr>\n",
       "  </tbody>\n",
       "</table>\n",
       "</div>"
      ],
      "text/plain": [
       "   continent    lifeExp           pop      gdpPercap Variable\n",
       "0     Africa  48.865330  9.916003e+06    2193.754578     Mean\n",
       "1     Africa  47.792000  4.579311e+06    1192.138217   Median\n",
       "2     Africa  23.599000  6.001100e+04     241.165876      Min\n",
       "3     Africa  76.442000  1.350312e+08   21951.211760      Max\n",
       "4   Americas  64.658737  2.450479e+07    7136.110356     Mean\n",
       "5   Americas  67.048000  6.227510e+06    5465.509853   Median\n",
       "6   Americas  37.579000  6.628500e+05    1201.637154      Min\n",
       "7   Americas  80.653000  3.011399e+08   42951.653090      Max\n",
       "8       Asia  60.064903  7.703872e+07    7902.150428     Mean\n",
       "9       Asia  82.603000  1.318683e+09  113523.132900      Max\n",
       "10      Asia  61.791500  1.453083e+07    2646.786844   Median\n",
       "11      Asia  28.801000  1.204470e+05     331.000000      Min\n",
       "12    Europe  71.903686  1.716976e+07   14469.475533     Mean\n",
       "13    Europe  72.241000  8.551125e+06   12081.749115   Median\n",
       "14    Europe  81.757000  8.240100e+07   49357.190170      Max\n",
       "15    Europe  43.585000  1.479620e+05     973.533195      Min\n",
       "16   Oceania  73.665000  6.403492e+06   17983.303955   Median\n",
       "17   Oceania  74.326208  8.874672e+06   18621.609223     Mean\n",
       "18   Oceania  69.120000  1.994794e+06   10039.595640      Min\n",
       "19   Oceania  81.235000  2.043418e+07   34435.367440      Max"
      ]
     },
     "execution_count": 19,
     "metadata": {},
     "output_type": "execute_result"
    }
   ],
   "source": [
    "df_mean = df_gapminder.groupby('continent')[['lifeExp', 'pop', 'gdpPercap']].mean()\n",
    "df_mean['Variable'] = \"Mean\"\n",
    "\n",
    "df_median = df_gapminder.groupby('continent')[['lifeExp', 'pop', 'gdpPercap']].median()\n",
    "df_median['Variable'] = \"Median\"\n",
    "\n",
    "df_min = df_gapminder.groupby('continent')[['lifeExp', 'pop', 'gdpPercap']].min()\n",
    "df_min['Variable'] = \"Min\"\n",
    "\n",
    "df_max = df_gapminder.groupby('continent')[['lifeExp', 'pop', 'gdpPercap']].max()\n",
    "df_max['Variable'] = \"Max\"\n",
    "\n",
    "df_summary = pd.concat([df_mean, df_median, df_min, df_max], axis=0).sort_index().reset_index()\n",
    "df_summary\n"
   ]
  },
  {
   "cell_type": "code",
   "execution_count": 20,
   "id": "a04a82b4-300c-4da2-bb3b-86ee06219da9",
   "metadata": {},
   "outputs": [
    {
     "data": {
      "text/html": [
       "<div>\n",
       "<style scoped>\n",
       "    .dataframe tbody tr th:only-of-type {\n",
       "        vertical-align: middle;\n",
       "    }\n",
       "\n",
       "    .dataframe tbody tr th {\n",
       "        vertical-align: top;\n",
       "    }\n",
       "\n",
       "    .dataframe thead th {\n",
       "        text-align: right;\n",
       "    }\n",
       "</style>\n",
       "<table border=\"1\" class=\"dataframe\">\n",
       "  <thead>\n",
       "    <tr style=\"text-align: right;\">\n",
       "      <th></th>\n",
       "      <th>year</th>\n",
       "      <th>Minimum</th>\n",
       "      <th>Maximum</th>\n",
       "      <th>Median</th>\n",
       "    </tr>\n",
       "  </thead>\n",
       "  <tbody>\n",
       "    <tr>\n",
       "      <th>0</th>\n",
       "      <td>1952</td>\n",
       "      <td>28.801</td>\n",
       "      <td>72.670</td>\n",
       "      <td>45.1355</td>\n",
       "    </tr>\n",
       "    <tr>\n",
       "      <th>1</th>\n",
       "      <td>1957</td>\n",
       "      <td>30.332</td>\n",
       "      <td>73.470</td>\n",
       "      <td>48.3605</td>\n",
       "    </tr>\n",
       "    <tr>\n",
       "      <th>2</th>\n",
       "      <td>1962</td>\n",
       "      <td>31.997</td>\n",
       "      <td>73.680</td>\n",
       "      <td>50.8810</td>\n",
       "    </tr>\n",
       "    <tr>\n",
       "      <th>3</th>\n",
       "      <td>1967</td>\n",
       "      <td>34.020</td>\n",
       "      <td>74.160</td>\n",
       "      <td>53.8250</td>\n",
       "    </tr>\n",
       "    <tr>\n",
       "      <th>4</th>\n",
       "      <td>1972</td>\n",
       "      <td>35.400</td>\n",
       "      <td>74.720</td>\n",
       "      <td>56.5300</td>\n",
       "    </tr>\n",
       "    <tr>\n",
       "      <th>5</th>\n",
       "      <td>1977</td>\n",
       "      <td>31.220</td>\n",
       "      <td>76.110</td>\n",
       "      <td>59.6720</td>\n",
       "    </tr>\n",
       "    <tr>\n",
       "      <th>6</th>\n",
       "      <td>1982</td>\n",
       "      <td>38.445</td>\n",
       "      <td>77.110</td>\n",
       "      <td>62.4415</td>\n",
       "    </tr>\n",
       "    <tr>\n",
       "      <th>7</th>\n",
       "      <td>1987</td>\n",
       "      <td>39.906</td>\n",
       "      <td>78.670</td>\n",
       "      <td>65.8340</td>\n",
       "    </tr>\n",
       "    <tr>\n",
       "      <th>8</th>\n",
       "      <td>1992</td>\n",
       "      <td>23.599</td>\n",
       "      <td>79.360</td>\n",
       "      <td>67.7030</td>\n",
       "    </tr>\n",
       "    <tr>\n",
       "      <th>9</th>\n",
       "      <td>1997</td>\n",
       "      <td>36.087</td>\n",
       "      <td>80.690</td>\n",
       "      <td>69.3940</td>\n",
       "    </tr>\n",
       "    <tr>\n",
       "      <th>10</th>\n",
       "      <td>2002</td>\n",
       "      <td>39.193</td>\n",
       "      <td>82.000</td>\n",
       "      <td>70.8255</td>\n",
       "    </tr>\n",
       "    <tr>\n",
       "      <th>11</th>\n",
       "      <td>2007</td>\n",
       "      <td>39.613</td>\n",
       "      <td>82.603</td>\n",
       "      <td>71.9355</td>\n",
       "    </tr>\n",
       "  </tbody>\n",
       "</table>\n",
       "</div>"
      ],
      "text/plain": [
       "    year  Minimum  Maximum   Median\n",
       "0   1952   28.801   72.670  45.1355\n",
       "1   1957   30.332   73.470  48.3605\n",
       "2   1962   31.997   73.680  50.8810\n",
       "3   1967   34.020   74.160  53.8250\n",
       "4   1972   35.400   74.720  56.5300\n",
       "5   1977   31.220   76.110  59.6720\n",
       "6   1982   38.445   77.110  62.4415\n",
       "7   1987   39.906   78.670  65.8340\n",
       "8   1992   23.599   79.360  67.7030\n",
       "9   1997   36.087   80.690  69.3940\n",
       "10  2002   39.193   82.000  70.8255\n",
       "11  2007   39.613   82.603  71.9355"
      ]
     },
     "execution_count": 20,
     "metadata": {},
     "output_type": "execute_result"
    }
   ],
   "source": [
    "# Entwicklung der lebenserwartung \n",
    "df_p1 = pd.DataFrame({\n",
    "    'Minimum': df_gapminder.groupby('year')['lifeExp'].min(),\n",
    "    'Maximum': df_gapminder.groupby('year')['lifeExp'].max(),\n",
    "    'Median': df_gapminder.groupby('year')['lifeExp'].median()\n",
    "}).reset_index()\n",
    "\n",
    "df_p1"
   ]
  },
  {
   "cell_type": "code",
   "execution_count": 78,
   "id": "7fd4a0fc-5cc1-47d0-957f-86135bb474de",
   "metadata": {},
   "outputs": [
    {
     "data": {
      "text/html": [
       "<div>\n",
       "<style scoped>\n",
       "    .dataframe tbody tr th:only-of-type {\n",
       "        vertical-align: middle;\n",
       "    }\n",
       "\n",
       "    .dataframe tbody tr th {\n",
       "        vertical-align: top;\n",
       "    }\n",
       "\n",
       "    .dataframe thead th {\n",
       "        text-align: right;\n",
       "    }\n",
       "</style>\n",
       "<table border=\"1\" class=\"dataframe\">\n",
       "  <thead>\n",
       "    <tr style=\"text-align: right;\">\n",
       "      <th></th>\n",
       "      <th>year</th>\n",
       "      <th>Germany</th>\n",
       "    </tr>\n",
       "  </thead>\n",
       "  <tbody>\n",
       "    <tr>\n",
       "      <th>564</th>\n",
       "      <td>1952</td>\n",
       "      <td>67.500</td>\n",
       "    </tr>\n",
       "    <tr>\n",
       "      <th>565</th>\n",
       "      <td>1957</td>\n",
       "      <td>69.100</td>\n",
       "    </tr>\n",
       "    <tr>\n",
       "      <th>566</th>\n",
       "      <td>1962</td>\n",
       "      <td>70.300</td>\n",
       "    </tr>\n",
       "    <tr>\n",
       "      <th>567</th>\n",
       "      <td>1967</td>\n",
       "      <td>70.800</td>\n",
       "    </tr>\n",
       "    <tr>\n",
       "      <th>568</th>\n",
       "      <td>1972</td>\n",
       "      <td>71.000</td>\n",
       "    </tr>\n",
       "    <tr>\n",
       "      <th>569</th>\n",
       "      <td>1977</td>\n",
       "      <td>72.500</td>\n",
       "    </tr>\n",
       "    <tr>\n",
       "      <th>570</th>\n",
       "      <td>1982</td>\n",
       "      <td>73.800</td>\n",
       "    </tr>\n",
       "    <tr>\n",
       "      <th>571</th>\n",
       "      <td>1987</td>\n",
       "      <td>74.847</td>\n",
       "    </tr>\n",
       "    <tr>\n",
       "      <th>572</th>\n",
       "      <td>1992</td>\n",
       "      <td>76.070</td>\n",
       "    </tr>\n",
       "    <tr>\n",
       "      <th>573</th>\n",
       "      <td>1997</td>\n",
       "      <td>77.340</td>\n",
       "    </tr>\n",
       "    <tr>\n",
       "      <th>574</th>\n",
       "      <td>2002</td>\n",
       "      <td>78.670</td>\n",
       "    </tr>\n",
       "    <tr>\n",
       "      <th>575</th>\n",
       "      <td>2007</td>\n",
       "      <td>79.406</td>\n",
       "    </tr>\n",
       "  </tbody>\n",
       "</table>\n",
       "</div>"
      ],
      "text/plain": [
       "     year  Germany\n",
       "564  1952   67.500\n",
       "565  1957   69.100\n",
       "566  1962   70.300\n",
       "567  1967   70.800\n",
       "568  1972   71.000\n",
       "569  1977   72.500\n",
       "570  1982   73.800\n",
       "571  1987   74.847\n",
       "572  1992   76.070\n",
       "573  1997   77.340\n",
       "574  2002   78.670\n",
       "575  2007   79.406"
      ]
     },
     "execution_count": 78,
     "metadata": {},
     "output_type": "execute_result"
    }
   ],
   "source": [
    "df_p2 = df_gapminder[df_gapminder.country == \"Germany\"][['year','lifeExp']].rename(columns = {\"lifeExp\":'Germany'})\n",
    "df_p2"
   ]
  },
  {
   "cell_type": "code",
   "execution_count": 80,
   "id": "15a4c734-140d-4c79-a774-56b94a40b3b8",
   "metadata": {},
   "outputs": [
    {
     "data": {
      "text/html": [
       "<div>\n",
       "<style scoped>\n",
       "    .dataframe tbody tr th:only-of-type {\n",
       "        vertical-align: middle;\n",
       "    }\n",
       "\n",
       "    .dataframe tbody tr th {\n",
       "        vertical-align: top;\n",
       "    }\n",
       "\n",
       "    .dataframe thead th {\n",
       "        text-align: right;\n",
       "    }\n",
       "</style>\n",
       "<table border=\"1\" class=\"dataframe\">\n",
       "  <thead>\n",
       "    <tr style=\"text-align: right;\">\n",
       "      <th></th>\n",
       "      <th>year</th>\n",
       "      <th>Minimum</th>\n",
       "      <th>Maximum</th>\n",
       "      <th>Median</th>\n",
       "      <th>Germany</th>\n",
       "    </tr>\n",
       "  </thead>\n",
       "  <tbody>\n",
       "    <tr>\n",
       "      <th>0</th>\n",
       "      <td>1952</td>\n",
       "      <td>28.801</td>\n",
       "      <td>72.670</td>\n",
       "      <td>45.1355</td>\n",
       "      <td>67.500</td>\n",
       "    </tr>\n",
       "    <tr>\n",
       "      <th>1</th>\n",
       "      <td>1957</td>\n",
       "      <td>30.332</td>\n",
       "      <td>73.470</td>\n",
       "      <td>48.3605</td>\n",
       "      <td>69.100</td>\n",
       "    </tr>\n",
       "    <tr>\n",
       "      <th>2</th>\n",
       "      <td>1962</td>\n",
       "      <td>31.997</td>\n",
       "      <td>73.680</td>\n",
       "      <td>50.8810</td>\n",
       "      <td>70.300</td>\n",
       "    </tr>\n",
       "    <tr>\n",
       "      <th>3</th>\n",
       "      <td>1967</td>\n",
       "      <td>34.020</td>\n",
       "      <td>74.160</td>\n",
       "      <td>53.8250</td>\n",
       "      <td>70.800</td>\n",
       "    </tr>\n",
       "    <tr>\n",
       "      <th>4</th>\n",
       "      <td>1972</td>\n",
       "      <td>35.400</td>\n",
       "      <td>74.720</td>\n",
       "      <td>56.5300</td>\n",
       "      <td>71.000</td>\n",
       "    </tr>\n",
       "    <tr>\n",
       "      <th>5</th>\n",
       "      <td>1977</td>\n",
       "      <td>31.220</td>\n",
       "      <td>76.110</td>\n",
       "      <td>59.6720</td>\n",
       "      <td>72.500</td>\n",
       "    </tr>\n",
       "    <tr>\n",
       "      <th>6</th>\n",
       "      <td>1982</td>\n",
       "      <td>38.445</td>\n",
       "      <td>77.110</td>\n",
       "      <td>62.4415</td>\n",
       "      <td>73.800</td>\n",
       "    </tr>\n",
       "    <tr>\n",
       "      <th>7</th>\n",
       "      <td>1987</td>\n",
       "      <td>39.906</td>\n",
       "      <td>78.670</td>\n",
       "      <td>65.8340</td>\n",
       "      <td>74.847</td>\n",
       "    </tr>\n",
       "    <tr>\n",
       "      <th>8</th>\n",
       "      <td>1992</td>\n",
       "      <td>23.599</td>\n",
       "      <td>79.360</td>\n",
       "      <td>67.7030</td>\n",
       "      <td>76.070</td>\n",
       "    </tr>\n",
       "    <tr>\n",
       "      <th>9</th>\n",
       "      <td>1997</td>\n",
       "      <td>36.087</td>\n",
       "      <td>80.690</td>\n",
       "      <td>69.3940</td>\n",
       "      <td>77.340</td>\n",
       "    </tr>\n",
       "    <tr>\n",
       "      <th>10</th>\n",
       "      <td>2002</td>\n",
       "      <td>39.193</td>\n",
       "      <td>82.000</td>\n",
       "      <td>70.8255</td>\n",
       "      <td>78.670</td>\n",
       "    </tr>\n",
       "    <tr>\n",
       "      <th>11</th>\n",
       "      <td>2007</td>\n",
       "      <td>39.613</td>\n",
       "      <td>82.603</td>\n",
       "      <td>71.9355</td>\n",
       "      <td>79.406</td>\n",
       "    </tr>\n",
       "  </tbody>\n",
       "</table>\n",
       "</div>"
      ],
      "text/plain": [
       "    year  Minimum  Maximum   Median  Germany\n",
       "0   1952   28.801   72.670  45.1355   67.500\n",
       "1   1957   30.332   73.470  48.3605   69.100\n",
       "2   1962   31.997   73.680  50.8810   70.300\n",
       "3   1967   34.020   74.160  53.8250   70.800\n",
       "4   1972   35.400   74.720  56.5300   71.000\n",
       "5   1977   31.220   76.110  59.6720   72.500\n",
       "6   1982   38.445   77.110  62.4415   73.800\n",
       "7   1987   39.906   78.670  65.8340   74.847\n",
       "8   1992   23.599   79.360  67.7030   76.070\n",
       "9   1997   36.087   80.690  69.3940   77.340\n",
       "10  2002   39.193   82.000  70.8255   78.670\n",
       "11  2007   39.613   82.603  71.9355   79.406"
      ]
     },
     "execution_count": 80,
     "metadata": {},
     "output_type": "execute_result"
    }
   ],
   "source": [
    "df_graph = df_p1.merge(df_p2, how = 'inner', on = 'year')\n",
    "df_graph"
   ]
  },
  {
   "cell_type": "code",
   "execution_count": null,
   "id": "179f6109-4b9c-4b75-b51e-3a76e92fca1f",
   "metadata": {},
   "outputs": [],
   "source": [
    "# From wide to long format "
   ]
  },
  {
   "cell_type": "code",
   "execution_count": 82,
   "id": "6612223e-8ddb-4569-8cc5-6d1e7ea1bcea",
   "metadata": {},
   "outputs": [
    {
     "data": {
      "text/html": [
       "<div>\n",
       "<style scoped>\n",
       "    .dataframe tbody tr th:only-of-type {\n",
       "        vertical-align: middle;\n",
       "    }\n",
       "\n",
       "    .dataframe tbody tr th {\n",
       "        vertical-align: top;\n",
       "    }\n",
       "\n",
       "    .dataframe thead th {\n",
       "        text-align: right;\n",
       "    }\n",
       "</style>\n",
       "<table border=\"1\" class=\"dataframe\">\n",
       "  <thead>\n",
       "    <tr style=\"text-align: right;\">\n",
       "      <th></th>\n",
       "      <th>year</th>\n",
       "      <th>variable</th>\n",
       "      <th>value</th>\n",
       "    </tr>\n",
       "  </thead>\n",
       "  <tbody>\n",
       "    <tr>\n",
       "      <th>0</th>\n",
       "      <td>1952</td>\n",
       "      <td>Minimum</td>\n",
       "      <td>28.8010</td>\n",
       "    </tr>\n",
       "    <tr>\n",
       "      <th>1</th>\n",
       "      <td>1957</td>\n",
       "      <td>Minimum</td>\n",
       "      <td>30.3320</td>\n",
       "    </tr>\n",
       "    <tr>\n",
       "      <th>2</th>\n",
       "      <td>1962</td>\n",
       "      <td>Minimum</td>\n",
       "      <td>31.9970</td>\n",
       "    </tr>\n",
       "    <tr>\n",
       "      <th>3</th>\n",
       "      <td>1967</td>\n",
       "      <td>Minimum</td>\n",
       "      <td>34.0200</td>\n",
       "    </tr>\n",
       "    <tr>\n",
       "      <th>4</th>\n",
       "      <td>1972</td>\n",
       "      <td>Minimum</td>\n",
       "      <td>35.4000</td>\n",
       "    </tr>\n",
       "    <tr>\n",
       "      <th>5</th>\n",
       "      <td>1977</td>\n",
       "      <td>Minimum</td>\n",
       "      <td>31.2200</td>\n",
       "    </tr>\n",
       "    <tr>\n",
       "      <th>6</th>\n",
       "      <td>1982</td>\n",
       "      <td>Minimum</td>\n",
       "      <td>38.4450</td>\n",
       "    </tr>\n",
       "    <tr>\n",
       "      <th>7</th>\n",
       "      <td>1987</td>\n",
       "      <td>Minimum</td>\n",
       "      <td>39.9060</td>\n",
       "    </tr>\n",
       "    <tr>\n",
       "      <th>8</th>\n",
       "      <td>1992</td>\n",
       "      <td>Minimum</td>\n",
       "      <td>23.5990</td>\n",
       "    </tr>\n",
       "    <tr>\n",
       "      <th>9</th>\n",
       "      <td>1997</td>\n",
       "      <td>Minimum</td>\n",
       "      <td>36.0870</td>\n",
       "    </tr>\n",
       "    <tr>\n",
       "      <th>10</th>\n",
       "      <td>2002</td>\n",
       "      <td>Minimum</td>\n",
       "      <td>39.1930</td>\n",
       "    </tr>\n",
       "    <tr>\n",
       "      <th>11</th>\n",
       "      <td>2007</td>\n",
       "      <td>Minimum</td>\n",
       "      <td>39.6130</td>\n",
       "    </tr>\n",
       "    <tr>\n",
       "      <th>12</th>\n",
       "      <td>1952</td>\n",
       "      <td>Maximum</td>\n",
       "      <td>72.6700</td>\n",
       "    </tr>\n",
       "    <tr>\n",
       "      <th>13</th>\n",
       "      <td>1957</td>\n",
       "      <td>Maximum</td>\n",
       "      <td>73.4700</td>\n",
       "    </tr>\n",
       "    <tr>\n",
       "      <th>14</th>\n",
       "      <td>1962</td>\n",
       "      <td>Maximum</td>\n",
       "      <td>73.6800</td>\n",
       "    </tr>\n",
       "    <tr>\n",
       "      <th>15</th>\n",
       "      <td>1967</td>\n",
       "      <td>Maximum</td>\n",
       "      <td>74.1600</td>\n",
       "    </tr>\n",
       "    <tr>\n",
       "      <th>16</th>\n",
       "      <td>1972</td>\n",
       "      <td>Maximum</td>\n",
       "      <td>74.7200</td>\n",
       "    </tr>\n",
       "    <tr>\n",
       "      <th>17</th>\n",
       "      <td>1977</td>\n",
       "      <td>Maximum</td>\n",
       "      <td>76.1100</td>\n",
       "    </tr>\n",
       "    <tr>\n",
       "      <th>18</th>\n",
       "      <td>1982</td>\n",
       "      <td>Maximum</td>\n",
       "      <td>77.1100</td>\n",
       "    </tr>\n",
       "    <tr>\n",
       "      <th>19</th>\n",
       "      <td>1987</td>\n",
       "      <td>Maximum</td>\n",
       "      <td>78.6700</td>\n",
       "    </tr>\n",
       "    <tr>\n",
       "      <th>20</th>\n",
       "      <td>1992</td>\n",
       "      <td>Maximum</td>\n",
       "      <td>79.3600</td>\n",
       "    </tr>\n",
       "    <tr>\n",
       "      <th>21</th>\n",
       "      <td>1997</td>\n",
       "      <td>Maximum</td>\n",
       "      <td>80.6900</td>\n",
       "    </tr>\n",
       "    <tr>\n",
       "      <th>22</th>\n",
       "      <td>2002</td>\n",
       "      <td>Maximum</td>\n",
       "      <td>82.0000</td>\n",
       "    </tr>\n",
       "    <tr>\n",
       "      <th>23</th>\n",
       "      <td>2007</td>\n",
       "      <td>Maximum</td>\n",
       "      <td>82.6030</td>\n",
       "    </tr>\n",
       "    <tr>\n",
       "      <th>24</th>\n",
       "      <td>1952</td>\n",
       "      <td>Median</td>\n",
       "      <td>45.1355</td>\n",
       "    </tr>\n",
       "    <tr>\n",
       "      <th>25</th>\n",
       "      <td>1957</td>\n",
       "      <td>Median</td>\n",
       "      <td>48.3605</td>\n",
       "    </tr>\n",
       "    <tr>\n",
       "      <th>26</th>\n",
       "      <td>1962</td>\n",
       "      <td>Median</td>\n",
       "      <td>50.8810</td>\n",
       "    </tr>\n",
       "    <tr>\n",
       "      <th>27</th>\n",
       "      <td>1967</td>\n",
       "      <td>Median</td>\n",
       "      <td>53.8250</td>\n",
       "    </tr>\n",
       "    <tr>\n",
       "      <th>28</th>\n",
       "      <td>1972</td>\n",
       "      <td>Median</td>\n",
       "      <td>56.5300</td>\n",
       "    </tr>\n",
       "    <tr>\n",
       "      <th>29</th>\n",
       "      <td>1977</td>\n",
       "      <td>Median</td>\n",
       "      <td>59.6720</td>\n",
       "    </tr>\n",
       "    <tr>\n",
       "      <th>30</th>\n",
       "      <td>1982</td>\n",
       "      <td>Median</td>\n",
       "      <td>62.4415</td>\n",
       "    </tr>\n",
       "    <tr>\n",
       "      <th>31</th>\n",
       "      <td>1987</td>\n",
       "      <td>Median</td>\n",
       "      <td>65.8340</td>\n",
       "    </tr>\n",
       "    <tr>\n",
       "      <th>32</th>\n",
       "      <td>1992</td>\n",
       "      <td>Median</td>\n",
       "      <td>67.7030</td>\n",
       "    </tr>\n",
       "    <tr>\n",
       "      <th>33</th>\n",
       "      <td>1997</td>\n",
       "      <td>Median</td>\n",
       "      <td>69.3940</td>\n",
       "    </tr>\n",
       "    <tr>\n",
       "      <th>34</th>\n",
       "      <td>2002</td>\n",
       "      <td>Median</td>\n",
       "      <td>70.8255</td>\n",
       "    </tr>\n",
       "    <tr>\n",
       "      <th>35</th>\n",
       "      <td>2007</td>\n",
       "      <td>Median</td>\n",
       "      <td>71.9355</td>\n",
       "    </tr>\n",
       "    <tr>\n",
       "      <th>36</th>\n",
       "      <td>1952</td>\n",
       "      <td>Germany</td>\n",
       "      <td>67.5000</td>\n",
       "    </tr>\n",
       "    <tr>\n",
       "      <th>37</th>\n",
       "      <td>1957</td>\n",
       "      <td>Germany</td>\n",
       "      <td>69.1000</td>\n",
       "    </tr>\n",
       "    <tr>\n",
       "      <th>38</th>\n",
       "      <td>1962</td>\n",
       "      <td>Germany</td>\n",
       "      <td>70.3000</td>\n",
       "    </tr>\n",
       "    <tr>\n",
       "      <th>39</th>\n",
       "      <td>1967</td>\n",
       "      <td>Germany</td>\n",
       "      <td>70.8000</td>\n",
       "    </tr>\n",
       "    <tr>\n",
       "      <th>40</th>\n",
       "      <td>1972</td>\n",
       "      <td>Germany</td>\n",
       "      <td>71.0000</td>\n",
       "    </tr>\n",
       "    <tr>\n",
       "      <th>41</th>\n",
       "      <td>1977</td>\n",
       "      <td>Germany</td>\n",
       "      <td>72.5000</td>\n",
       "    </tr>\n",
       "    <tr>\n",
       "      <th>42</th>\n",
       "      <td>1982</td>\n",
       "      <td>Germany</td>\n",
       "      <td>73.8000</td>\n",
       "    </tr>\n",
       "    <tr>\n",
       "      <th>43</th>\n",
       "      <td>1987</td>\n",
       "      <td>Germany</td>\n",
       "      <td>74.8470</td>\n",
       "    </tr>\n",
       "    <tr>\n",
       "      <th>44</th>\n",
       "      <td>1992</td>\n",
       "      <td>Germany</td>\n",
       "      <td>76.0700</td>\n",
       "    </tr>\n",
       "    <tr>\n",
       "      <th>45</th>\n",
       "      <td>1997</td>\n",
       "      <td>Germany</td>\n",
       "      <td>77.3400</td>\n",
       "    </tr>\n",
       "    <tr>\n",
       "      <th>46</th>\n",
       "      <td>2002</td>\n",
       "      <td>Germany</td>\n",
       "      <td>78.6700</td>\n",
       "    </tr>\n",
       "    <tr>\n",
       "      <th>47</th>\n",
       "      <td>2007</td>\n",
       "      <td>Germany</td>\n",
       "      <td>79.4060</td>\n",
       "    </tr>\n",
       "  </tbody>\n",
       "</table>\n",
       "</div>"
      ],
      "text/plain": [
       "    year variable    value\n",
       "0   1952  Minimum  28.8010\n",
       "1   1957  Minimum  30.3320\n",
       "2   1962  Minimum  31.9970\n",
       "3   1967  Minimum  34.0200\n",
       "4   1972  Minimum  35.4000\n",
       "5   1977  Minimum  31.2200\n",
       "6   1982  Minimum  38.4450\n",
       "7   1987  Minimum  39.9060\n",
       "8   1992  Minimum  23.5990\n",
       "9   1997  Minimum  36.0870\n",
       "10  2002  Minimum  39.1930\n",
       "11  2007  Minimum  39.6130\n",
       "12  1952  Maximum  72.6700\n",
       "13  1957  Maximum  73.4700\n",
       "14  1962  Maximum  73.6800\n",
       "15  1967  Maximum  74.1600\n",
       "16  1972  Maximum  74.7200\n",
       "17  1977  Maximum  76.1100\n",
       "18  1982  Maximum  77.1100\n",
       "19  1987  Maximum  78.6700\n",
       "20  1992  Maximum  79.3600\n",
       "21  1997  Maximum  80.6900\n",
       "22  2002  Maximum  82.0000\n",
       "23  2007  Maximum  82.6030\n",
       "24  1952   Median  45.1355\n",
       "25  1957   Median  48.3605\n",
       "26  1962   Median  50.8810\n",
       "27  1967   Median  53.8250\n",
       "28  1972   Median  56.5300\n",
       "29  1977   Median  59.6720\n",
       "30  1982   Median  62.4415\n",
       "31  1987   Median  65.8340\n",
       "32  1992   Median  67.7030\n",
       "33  1997   Median  69.3940\n",
       "34  2002   Median  70.8255\n",
       "35  2007   Median  71.9355\n",
       "36  1952  Germany  67.5000\n",
       "37  1957  Germany  69.1000\n",
       "38  1962  Germany  70.3000\n",
       "39  1967  Germany  70.8000\n",
       "40  1972  Germany  71.0000\n",
       "41  1977  Germany  72.5000\n",
       "42  1982  Germany  73.8000\n",
       "43  1987  Germany  74.8470\n",
       "44  1992  Germany  76.0700\n",
       "45  1997  Germany  77.3400\n",
       "46  2002  Germany  78.6700\n",
       "47  2007  Germany  79.4060"
      ]
     },
     "execution_count": 82,
     "metadata": {},
     "output_type": "execute_result"
    }
   ],
   "source": [
    "df_graph_long = pd.melt(\n",
    "    df_graph,\n",
    "    id_vars = 'year',  #\n",
    "    var_name = 'variable',\n",
    "    value_name = 'value'\n",
    ")\n",
    "\n",
    "df_graph_long\n"
   ]
  },
  {
   "cell_type": "code",
   "execution_count": 86,
   "id": "43af10b3-01b9-4e8f-84ec-ca8e74f2c8fb",
   "metadata": {},
   "outputs": [
    {
     "data": {
      "application/vnd.plotly.v1+json": {
       "config": {
        "plotlyServerURL": "https://plot.ly"
       },
       "data": [
        {
         "hovertemplate": "variable=Minimum<br>year=%{x}<br>value=%{y}<extra></extra>",
         "legendgroup": "Minimum",
         "line": {
          "color": "#636efa",
          "dash": "solid"
         },
         "marker": {
          "symbol": "circle"
         },
         "mode": "lines",
         "name": "Minimum",
         "orientation": "v",
         "showlegend": true,
         "type": "scatter",
         "x": [
          1952,
          1957,
          1962,
          1967,
          1972,
          1977,
          1982,
          1987,
          1992,
          1997,
          2002,
          2007
         ],
         "xaxis": "x",
         "y": [
          28.801,
          30.332,
          31.997,
          34.02,
          35.4,
          31.22,
          38.445,
          39.906,
          23.599,
          36.087,
          39.193,
          39.613
         ],
         "yaxis": "y"
        },
        {
         "hovertemplate": "variable=Maximum<br>year=%{x}<br>value=%{y}<extra></extra>",
         "legendgroup": "Maximum",
         "line": {
          "color": "#EF553B",
          "dash": "solid"
         },
         "marker": {
          "symbol": "circle"
         },
         "mode": "lines",
         "name": "Maximum",
         "orientation": "v",
         "showlegend": true,
         "type": "scatter",
         "x": [
          1952,
          1957,
          1962,
          1967,
          1972,
          1977,
          1982,
          1987,
          1992,
          1997,
          2002,
          2007
         ],
         "xaxis": "x",
         "y": [
          72.67,
          73.47,
          73.68,
          74.16,
          74.72,
          76.11,
          77.11,
          78.67,
          79.36,
          80.69,
          82,
          82.603
         ],
         "yaxis": "y"
        },
        {
         "hovertemplate": "variable=Median<br>year=%{x}<br>value=%{y}<extra></extra>",
         "legendgroup": "Median",
         "line": {
          "color": "#00cc96",
          "dash": "solid"
         },
         "marker": {
          "symbol": "circle"
         },
         "mode": "lines",
         "name": "Median",
         "orientation": "v",
         "showlegend": true,
         "type": "scatter",
         "x": [
          1952,
          1957,
          1962,
          1967,
          1972,
          1977,
          1982,
          1987,
          1992,
          1997,
          2002,
          2007
         ],
         "xaxis": "x",
         "y": [
          45.1355,
          48.3605,
          50.881,
          53.825,
          56.53,
          59.672,
          62.441500000000005,
          65.834,
          67.703,
          69.394,
          70.8255,
          71.93549999999999
         ],
         "yaxis": "y"
        },
        {
         "hovertemplate": "variable=Germany<br>year=%{x}<br>value=%{y}<extra></extra>",
         "legendgroup": "Germany",
         "line": {
          "color": "#ab63fa",
          "dash": "solid"
         },
         "marker": {
          "symbol": "circle"
         },
         "mode": "lines",
         "name": "Germany",
         "orientation": "v",
         "showlegend": true,
         "type": "scatter",
         "x": [
          1952,
          1957,
          1962,
          1967,
          1972,
          1977,
          1982,
          1987,
          1992,
          1997,
          2002,
          2007
         ],
         "xaxis": "x",
         "y": [
          67.5,
          69.1,
          70.3,
          70.8,
          71,
          72.5,
          73.8,
          74.847,
          76.07,
          77.34,
          78.67,
          79.406
         ],
         "yaxis": "y"
        }
       ],
       "layout": {
        "autosize": true,
        "legend": {
         "title": {
          "text": "variable"
         },
         "tracegroupgap": 0
        },
        "margin": {
         "t": 60
        },
        "template": {
         "data": {
          "bar": [
           {
            "error_x": {
             "color": "#2a3f5f"
            },
            "error_y": {
             "color": "#2a3f5f"
            },
            "marker": {
             "line": {
              "color": "#E5ECF6",
              "width": 0.5
             },
             "pattern": {
              "fillmode": "overlay",
              "size": 10,
              "solidity": 0.2
             }
            },
            "type": "bar"
           }
          ],
          "barpolar": [
           {
            "marker": {
             "line": {
              "color": "#E5ECF6",
              "width": 0.5
             },
             "pattern": {
              "fillmode": "overlay",
              "size": 10,
              "solidity": 0.2
             }
            },
            "type": "barpolar"
           }
          ],
          "carpet": [
           {
            "aaxis": {
             "endlinecolor": "#2a3f5f",
             "gridcolor": "white",
             "linecolor": "white",
             "minorgridcolor": "white",
             "startlinecolor": "#2a3f5f"
            },
            "baxis": {
             "endlinecolor": "#2a3f5f",
             "gridcolor": "white",
             "linecolor": "white",
             "minorgridcolor": "white",
             "startlinecolor": "#2a3f5f"
            },
            "type": "carpet"
           }
          ],
          "choropleth": [
           {
            "colorbar": {
             "outlinewidth": 0,
             "ticks": ""
            },
            "type": "choropleth"
           }
          ],
          "contour": [
           {
            "colorbar": {
             "outlinewidth": 0,
             "ticks": ""
            },
            "colorscale": [
             [
              0,
              "#0d0887"
             ],
             [
              0.1111111111111111,
              "#46039f"
             ],
             [
              0.2222222222222222,
              "#7201a8"
             ],
             [
              0.3333333333333333,
              "#9c179e"
             ],
             [
              0.4444444444444444,
              "#bd3786"
             ],
             [
              0.5555555555555556,
              "#d8576b"
             ],
             [
              0.6666666666666666,
              "#ed7953"
             ],
             [
              0.7777777777777778,
              "#fb9f3a"
             ],
             [
              0.8888888888888888,
              "#fdca26"
             ],
             [
              1,
              "#f0f921"
             ]
            ],
            "type": "contour"
           }
          ],
          "contourcarpet": [
           {
            "colorbar": {
             "outlinewidth": 0,
             "ticks": ""
            },
            "type": "contourcarpet"
           }
          ],
          "heatmap": [
           {
            "colorbar": {
             "outlinewidth": 0,
             "ticks": ""
            },
            "colorscale": [
             [
              0,
              "#0d0887"
             ],
             [
              0.1111111111111111,
              "#46039f"
             ],
             [
              0.2222222222222222,
              "#7201a8"
             ],
             [
              0.3333333333333333,
              "#9c179e"
             ],
             [
              0.4444444444444444,
              "#bd3786"
             ],
             [
              0.5555555555555556,
              "#d8576b"
             ],
             [
              0.6666666666666666,
              "#ed7953"
             ],
             [
              0.7777777777777778,
              "#fb9f3a"
             ],
             [
              0.8888888888888888,
              "#fdca26"
             ],
             [
              1,
              "#f0f921"
             ]
            ],
            "type": "heatmap"
           }
          ],
          "heatmapgl": [
           {
            "colorbar": {
             "outlinewidth": 0,
             "ticks": ""
            },
            "colorscale": [
             [
              0,
              "#0d0887"
             ],
             [
              0.1111111111111111,
              "#46039f"
             ],
             [
              0.2222222222222222,
              "#7201a8"
             ],
             [
              0.3333333333333333,
              "#9c179e"
             ],
             [
              0.4444444444444444,
              "#bd3786"
             ],
             [
              0.5555555555555556,
              "#d8576b"
             ],
             [
              0.6666666666666666,
              "#ed7953"
             ],
             [
              0.7777777777777778,
              "#fb9f3a"
             ],
             [
              0.8888888888888888,
              "#fdca26"
             ],
             [
              1,
              "#f0f921"
             ]
            ],
            "type": "heatmapgl"
           }
          ],
          "histogram": [
           {
            "marker": {
             "pattern": {
              "fillmode": "overlay",
              "size": 10,
              "solidity": 0.2
             }
            },
            "type": "histogram"
           }
          ],
          "histogram2d": [
           {
            "colorbar": {
             "outlinewidth": 0,
             "ticks": ""
            },
            "colorscale": [
             [
              0,
              "#0d0887"
             ],
             [
              0.1111111111111111,
              "#46039f"
             ],
             [
              0.2222222222222222,
              "#7201a8"
             ],
             [
              0.3333333333333333,
              "#9c179e"
             ],
             [
              0.4444444444444444,
              "#bd3786"
             ],
             [
              0.5555555555555556,
              "#d8576b"
             ],
             [
              0.6666666666666666,
              "#ed7953"
             ],
             [
              0.7777777777777778,
              "#fb9f3a"
             ],
             [
              0.8888888888888888,
              "#fdca26"
             ],
             [
              1,
              "#f0f921"
             ]
            ],
            "type": "histogram2d"
           }
          ],
          "histogram2dcontour": [
           {
            "colorbar": {
             "outlinewidth": 0,
             "ticks": ""
            },
            "colorscale": [
             [
              0,
              "#0d0887"
             ],
             [
              0.1111111111111111,
              "#46039f"
             ],
             [
              0.2222222222222222,
              "#7201a8"
             ],
             [
              0.3333333333333333,
              "#9c179e"
             ],
             [
              0.4444444444444444,
              "#bd3786"
             ],
             [
              0.5555555555555556,
              "#d8576b"
             ],
             [
              0.6666666666666666,
              "#ed7953"
             ],
             [
              0.7777777777777778,
              "#fb9f3a"
             ],
             [
              0.8888888888888888,
              "#fdca26"
             ],
             [
              1,
              "#f0f921"
             ]
            ],
            "type": "histogram2dcontour"
           }
          ],
          "mesh3d": [
           {
            "colorbar": {
             "outlinewidth": 0,
             "ticks": ""
            },
            "type": "mesh3d"
           }
          ],
          "parcoords": [
           {
            "line": {
             "colorbar": {
              "outlinewidth": 0,
              "ticks": ""
             }
            },
            "type": "parcoords"
           }
          ],
          "pie": [
           {
            "automargin": true,
            "type": "pie"
           }
          ],
          "scatter": [
           {
            "fillpattern": {
             "fillmode": "overlay",
             "size": 10,
             "solidity": 0.2
            },
            "type": "scatter"
           }
          ],
          "scatter3d": [
           {
            "line": {
             "colorbar": {
              "outlinewidth": 0,
              "ticks": ""
             }
            },
            "marker": {
             "colorbar": {
              "outlinewidth": 0,
              "ticks": ""
             }
            },
            "type": "scatter3d"
           }
          ],
          "scattercarpet": [
           {
            "marker": {
             "colorbar": {
              "outlinewidth": 0,
              "ticks": ""
             }
            },
            "type": "scattercarpet"
           }
          ],
          "scattergeo": [
           {
            "marker": {
             "colorbar": {
              "outlinewidth": 0,
              "ticks": ""
             }
            },
            "type": "scattergeo"
           }
          ],
          "scattergl": [
           {
            "marker": {
             "colorbar": {
              "outlinewidth": 0,
              "ticks": ""
             }
            },
            "type": "scattergl"
           }
          ],
          "scattermapbox": [
           {
            "marker": {
             "colorbar": {
              "outlinewidth": 0,
              "ticks": ""
             }
            },
            "type": "scattermapbox"
           }
          ],
          "scatterpolar": [
           {
            "marker": {
             "colorbar": {
              "outlinewidth": 0,
              "ticks": ""
             }
            },
            "type": "scatterpolar"
           }
          ],
          "scatterpolargl": [
           {
            "marker": {
             "colorbar": {
              "outlinewidth": 0,
              "ticks": ""
             }
            },
            "type": "scatterpolargl"
           }
          ],
          "scatterternary": [
           {
            "marker": {
             "colorbar": {
              "outlinewidth": 0,
              "ticks": ""
             }
            },
            "type": "scatterternary"
           }
          ],
          "surface": [
           {
            "colorbar": {
             "outlinewidth": 0,
             "ticks": ""
            },
            "colorscale": [
             [
              0,
              "#0d0887"
             ],
             [
              0.1111111111111111,
              "#46039f"
             ],
             [
              0.2222222222222222,
              "#7201a8"
             ],
             [
              0.3333333333333333,
              "#9c179e"
             ],
             [
              0.4444444444444444,
              "#bd3786"
             ],
             [
              0.5555555555555556,
              "#d8576b"
             ],
             [
              0.6666666666666666,
              "#ed7953"
             ],
             [
              0.7777777777777778,
              "#fb9f3a"
             ],
             [
              0.8888888888888888,
              "#fdca26"
             ],
             [
              1,
              "#f0f921"
             ]
            ],
            "type": "surface"
           }
          ],
          "table": [
           {
            "cells": {
             "fill": {
              "color": "#EBF0F8"
             },
             "line": {
              "color": "white"
             }
            },
            "header": {
             "fill": {
              "color": "#C8D4E3"
             },
             "line": {
              "color": "white"
             }
            },
            "type": "table"
           }
          ]
         },
         "layout": {
          "annotationdefaults": {
           "arrowcolor": "#2a3f5f",
           "arrowhead": 0,
           "arrowwidth": 1
          },
          "autotypenumbers": "strict",
          "coloraxis": {
           "colorbar": {
            "outlinewidth": 0,
            "ticks": ""
           }
          },
          "colorscale": {
           "diverging": [
            [
             0,
             "#8e0152"
            ],
            [
             0.1,
             "#c51b7d"
            ],
            [
             0.2,
             "#de77ae"
            ],
            [
             0.3,
             "#f1b6da"
            ],
            [
             0.4,
             "#fde0ef"
            ],
            [
             0.5,
             "#f7f7f7"
            ],
            [
             0.6,
             "#e6f5d0"
            ],
            [
             0.7,
             "#b8e186"
            ],
            [
             0.8,
             "#7fbc41"
            ],
            [
             0.9,
             "#4d9221"
            ],
            [
             1,
             "#276419"
            ]
           ],
           "sequential": [
            [
             0,
             "#0d0887"
            ],
            [
             0.1111111111111111,
             "#46039f"
            ],
            [
             0.2222222222222222,
             "#7201a8"
            ],
            [
             0.3333333333333333,
             "#9c179e"
            ],
            [
             0.4444444444444444,
             "#bd3786"
            ],
            [
             0.5555555555555556,
             "#d8576b"
            ],
            [
             0.6666666666666666,
             "#ed7953"
            ],
            [
             0.7777777777777778,
             "#fb9f3a"
            ],
            [
             0.8888888888888888,
             "#fdca26"
            ],
            [
             1,
             "#f0f921"
            ]
           ],
           "sequentialminus": [
            [
             0,
             "#0d0887"
            ],
            [
             0.1111111111111111,
             "#46039f"
            ],
            [
             0.2222222222222222,
             "#7201a8"
            ],
            [
             0.3333333333333333,
             "#9c179e"
            ],
            [
             0.4444444444444444,
             "#bd3786"
            ],
            [
             0.5555555555555556,
             "#d8576b"
            ],
            [
             0.6666666666666666,
             "#ed7953"
            ],
            [
             0.7777777777777778,
             "#fb9f3a"
            ],
            [
             0.8888888888888888,
             "#fdca26"
            ],
            [
             1,
             "#f0f921"
            ]
           ]
          },
          "colorway": [
           "#636efa",
           "#EF553B",
           "#00cc96",
           "#ab63fa",
           "#FFA15A",
           "#19d3f3",
           "#FF6692",
           "#B6E880",
           "#FF97FF",
           "#FECB52"
          ],
          "font": {
           "color": "#2a3f5f"
          },
          "geo": {
           "bgcolor": "white",
           "lakecolor": "white",
           "landcolor": "#E5ECF6",
           "showlakes": true,
           "showland": true,
           "subunitcolor": "white"
          },
          "hoverlabel": {
           "align": "left"
          },
          "hovermode": "closest",
          "mapbox": {
           "style": "light"
          },
          "paper_bgcolor": "white",
          "plot_bgcolor": "#E5ECF6",
          "polar": {
           "angularaxis": {
            "gridcolor": "white",
            "linecolor": "white",
            "ticks": ""
           },
           "bgcolor": "#E5ECF6",
           "radialaxis": {
            "gridcolor": "white",
            "linecolor": "white",
            "ticks": ""
           }
          },
          "scene": {
           "xaxis": {
            "backgroundcolor": "#E5ECF6",
            "gridcolor": "white",
            "gridwidth": 2,
            "linecolor": "white",
            "showbackground": true,
            "ticks": "",
            "zerolinecolor": "white"
           },
           "yaxis": {
            "backgroundcolor": "#E5ECF6",
            "gridcolor": "white",
            "gridwidth": 2,
            "linecolor": "white",
            "showbackground": true,
            "ticks": "",
            "zerolinecolor": "white"
           },
           "zaxis": {
            "backgroundcolor": "#E5ECF6",
            "gridcolor": "white",
            "gridwidth": 2,
            "linecolor": "white",
            "showbackground": true,
            "ticks": "",
            "zerolinecolor": "white"
           }
          },
          "shapedefaults": {
           "line": {
            "color": "#2a3f5f"
           }
          },
          "ternary": {
           "aaxis": {
            "gridcolor": "white",
            "linecolor": "white",
            "ticks": ""
           },
           "baxis": {
            "gridcolor": "white",
            "linecolor": "white",
            "ticks": ""
           },
           "bgcolor": "#E5ECF6",
           "caxis": {
            "gridcolor": "white",
            "linecolor": "white",
            "ticks": ""
           }
          },
          "title": {
           "x": 0.05
          },
          "xaxis": {
           "automargin": true,
           "gridcolor": "white",
           "linecolor": "white",
           "ticks": "",
           "title": {
            "standoff": 15
           },
           "zerolinecolor": "white",
           "zerolinewidth": 2
          },
          "yaxis": {
           "automargin": true,
           "gridcolor": "white",
           "linecolor": "white",
           "ticks": "",
           "title": {
            "standoff": 15
           },
           "zerolinecolor": "white",
           "zerolinewidth": 2
          }
         }
        },
        "xaxis": {
         "anchor": "y",
         "autorange": true,
         "domain": [
          0,
          1
         ],
         "range": [
          1952,
          2007
         ],
         "title": {
          "text": "year"
         },
         "type": "linear"
        },
        "yaxis": {
         "anchor": "x",
         "autorange": true,
         "domain": [
          0,
          1
         ],
         "range": [
          20.321,
          85.881
         ],
         "title": {
          "text": "value"
         },
         "type": "linear"
        }
       }
      },
      "image/png": "[encoded data removed]",
      "text/html": [
       "<div>                            <div id=\"f345961c-f032-4412-894f-88d70b427d43\" class=\"plotly-graph-div\" style=\"height:525px; width:100%;\"></div>            <script type=\"text/javascript\">                require([\"plotly\"], function(Plotly) {                    window.PLOTLYENV=window.PLOTLYENV || {};                                    if (document.getElementById(\"f345961c-f032-4412-894f-88d70b427d43\")) {                    Plotly.newPlot(                        \"f345961c-f032-4412-894f-88d70b427d43\",                        [{\"hovertemplate\":\"variable=Minimum\\u003cbr\\u003eyear=%{x}\\u003cbr\\u003evalue=%{y}\\u003cextra\\u003e\\u003c\\u002fextra\\u003e\",\"legendgroup\":\"Minimum\",\"line\":{\"color\":\"#636efa\",\"dash\":\"solid\"},\"marker\":{\"symbol\":\"circle\"},\"mode\":\"lines\",\"name\":\"Minimum\",\"orientation\":\"v\",\"showlegend\":true,\"x\":[1952,1957,1962,1967,1972,1977,1982,1987,1992,1997,2002,2007],\"xaxis\":\"x\",\"y\":[28.801,30.332,31.997,34.02,35.4,31.22,38.445,39.906,23.599,36.087,39.193,39.613],\"yaxis\":\"y\",\"type\":\"scatter\"},{\"hovertemplate\":\"variable=Maximum\\u003cbr\\u003eyear=%{x}\\u003cbr\\u003evalue=%{y}\\u003cextra\\u003e\\u003c\\u002fextra\\u003e\",\"legendgroup\":\"Maximum\",\"line\":{\"color\":\"#EF553B\",\"dash\":\"solid\"},\"marker\":{\"symbol\":\"circle\"},\"mode\":\"lines\",\"name\":\"Maximum\",\"orientation\":\"v\",\"showlegend\":true,\"x\":[1952,1957,1962,1967,1972,1977,1982,1987,1992,1997,2002,2007],\"xaxis\":\"x\",\"y\":[72.67,73.47,73.68,74.16,74.72,76.11,77.11,78.67,79.36,80.69,82.0,82.603],\"yaxis\":\"y\",\"type\":\"scatter\"},{\"hovertemplate\":\"variable=Median\\u003cbr\\u003eyear=%{x}\\u003cbr\\u003evalue=%{y}\\u003cextra\\u003e\\u003c\\u002fextra\\u003e\",\"legendgroup\":\"Median\",\"line\":{\"color\":\"#00cc96\",\"dash\":\"solid\"},\"marker\":{\"symbol\":\"circle\"},\"mode\":\"lines\",\"name\":\"Median\",\"orientation\":\"v\",\"showlegend\":true,\"x\":[1952,1957,1962,1967,1972,1977,1982,1987,1992,1997,2002,2007],\"xaxis\":\"x\",\"y\":[45.1355,48.3605,50.881,53.825,56.53,59.672,62.441500000000005,65.834,67.703,69.394,70.8255,71.93549999999999],\"yaxis\":\"y\",\"type\":\"scatter\"},{\"hovertemplate\":\"variable=Germany\\u003cbr\\u003eyear=%{x}\\u003cbr\\u003evalue=%{y}\\u003cextra\\u003e\\u003c\\u002fextra\\u003e\",\"legendgroup\":\"Germany\",\"line\":{\"color\":\"#ab63fa\",\"dash\":\"solid\"},\"marker\":{\"symbol\":\"circle\"},\"mode\":\"lines\",\"name\":\"Germany\",\"orientation\":\"v\",\"showlegend\":true,\"x\":[1952,1957,1962,1967,1972,1977,1982,1987,1992,1997,2002,2007],\"xaxis\":\"x\",\"y\":[67.5,69.1,70.3,70.8,71.0,72.5,73.8,74.847,76.07,77.34,78.67,79.406],\"yaxis\":\"y\",\"type\":\"scatter\"}],                        {\"template\":{\"data\":{\"histogram2dcontour\":[{\"type\":\"histogram2dcontour\",\"colorbar\":{\"outlinewidth\":0,\"ticks\":\"\"},\"colorscale\":[[0.0,\"#0d0887\"],[0.1111111111111111,\"#46039f\"],[0.2222222222222222,\"#7201a8\"],[0.3333333333333333,\"#9c179e\"],[0.4444444444444444,\"#bd3786\"],[0.5555555555555556,\"#d8576b\"],[0.6666666666666666,\"#ed7953\"],[0.7777777777777778,\"#fb9f3a\"],[0.8888888888888888,\"#fdca26\"],[1.0,\"#f0f921\"]]}],\"choropleth\":[{\"type\":\"choropleth\",\"colorbar\":{\"outlinewidth\":0,\"ticks\":\"\"}}],\"histogram2d\":[{\"type\":\"histogram2d\",\"colorbar\":{\"outlinewidth\":0,\"ticks\":\"\"},\"colorscale\":[[0.0,\"#0d0887\"],[0.1111111111111111,\"#46039f\"],[0.2222222222222222,\"#7201a8\"],[0.3333333333333333,\"#9c179e\"],[0.4444444444444444,\"#bd3786\"],[0.5555555555555556,\"#d8576b\"],[0.6666666666666666,\"#ed7953\"],[0.7777777777777778,\"#fb9f3a\"],[0.8888888888888888,\"#fdca26\"],[1.0,\"#f0f921\"]]}],\"heatmap\":[{\"type\":\"heatmap\",\"colorbar\":{\"outlinewidth\":0,\"ticks\":\"\"},\"colorscale\":[[0.0,\"#0d0887\"],[0.1111111111111111,\"#46039f\"],[0.2222222222222222,\"#7201a8\"],[0.3333333333333333,\"#9c179e\"],[0.4444444444444444,\"#bd3786\"],[0.5555555555555556,\"#d8576b\"],[0.6666666666666666,\"#ed7953\"],[0.7777777777777778,\"#fb9f3a\"],[0.8888888888888888,\"#fdca26\"],[1.0,\"#f0f921\"]]}],\"heatmapgl\":[{\"type\":\"heatmapgl\",\"colorbar\":{\"outlinewidth\":0,\"ticks\":\"\"},\"colorscale\":[[0.0,\"#0d0887\"],[0.1111111111111111,\"#46039f\"],[0.2222222222222222,\"#7201a8\"],[0.3333333333333333,\"#9c179e\"],[0.4444444444444444,\"#bd3786\"],[0.5555555555555556,\"#d8576b\"],[0.6666666666666666,\"#ed7953\"],[0.7777777777777778,\"#fb9f3a\"],[0.8888888888888888,\"#fdca26\"],[1.0,\"#f0f921\"]]}],\"contourcarpet\":[{\"type\":\"contourcarpet\",\"colorbar\":{\"outlinewidth\":0,\"ticks\":\"\"}}],\"contour\":[{\"type\":\"contour\",\"colorbar\":{\"outlinewidth\":0,\"ticks\":\"\"},\"colorscale\":[[0.0,\"#0d0887\"],[0.1111111111111111,\"#46039f\"],[0.2222222222222222,\"#7201a8\"],[0.3333333333333333,\"#9c179e\"],[0.4444444444444444,\"#bd3786\"],[0.5555555555555556,\"#d8576b\"],[0.6666666666666666,\"#ed7953\"],[0.7777777777777778,\"#fb9f3a\"],[0.8888888888888888,\"#fdca26\"],[1.0,\"#f0f921\"]]}],\"surface\":[{\"type\":\"surface\",\"colorbar\":{\"outlinewidth\":0,\"ticks\":\"\"},\"colorscale\":[[0.0,\"#0d0887\"],[0.1111111111111111,\"#46039f\"],[0.2222222222222222,\"#7201a8\"],[0.3333333333333333,\"#9c179e\"],[0.4444444444444444,\"#bd3786\"],[0.5555555555555556,\"#d8576b\"],[0.6666666666666666,\"#ed7953\"],[0.7777777777777778,\"#fb9f3a\"],[0.8888888888888888,\"#fdca26\"],[1.0,\"#f0f921\"]]}],\"mesh3d\":[{\"type\":\"mesh3d\",\"colorbar\":{\"outlinewidth\":0,\"ticks\":\"\"}}],\"scatter\":[{\"fillpattern\":{\"fillmode\":\"overlay\",\"size\":10,\"solidity\":0.2},\"type\":\"scatter\"}],\"parcoords\":[{\"type\":\"parcoords\",\"line\":{\"colorbar\":{\"outlinewidth\":0,\"ticks\":\"\"}}}],\"scatterpolargl\":[{\"type\":\"scatterpolargl\",\"marker\":{\"colorbar\":{\"outlinewidth\":0,\"ticks\":\"\"}}}],\"bar\":[{\"error_x\":{\"color\":\"#2a3f5f\"},\"error_y\":{\"color\":\"#2a3f5f\"},\"marker\":{\"line\":{\"color\":\"#E5ECF6\",\"width\":0.5},\"pattern\":{\"fillmode\":\"overlay\",\"size\":10,\"solidity\":0.2}},\"type\":\"bar\"}],\"scattergeo\":[{\"type\":\"scattergeo\",\"marker\":{\"colorbar\":{\"outlinewidth\":0,\"ticks\":\"\"}}}],\"scatterpolar\":[{\"type\":\"scatterpolar\",\"marker\":{\"colorbar\":{\"outlinewidth\":0,\"ticks\":\"\"}}}],\"histogram\":[{\"marker\":{\"pattern\":{\"fillmode\":\"overlay\",\"size\":10,\"solidity\":0.2}},\"type\":\"histogram\"}],\"scattergl\":[{\"type\":\"scattergl\",\"marker\":{\"colorbar\":{\"outlinewidth\":0,\"ticks\":\"\"}}}],\"scatter3d\":[{\"type\":\"scatter3d\",\"line\":{\"colorbar\":{\"outlinewidth\":0,\"ticks\":\"\"}},\"marker\":{\"colorbar\":{\"outlinewidth\":0,\"ticks\":\"\"}}}],\"scattermapbox\":[{\"type\":\"scattermapbox\",\"marker\":{\"colorbar\":{\"outlinewidth\":0,\"ticks\":\"\"}}}],\"scatterternary\":[{\"type\":\"scatterternary\",\"marker\":{\"colorbar\":{\"outlinewidth\":0,\"ticks\":\"\"}}}],\"scattercarpet\":[{\"type\":\"scattercarpet\",\"marker\":{\"colorbar\":{\"outlinewidth\":0,\"ticks\":\"\"}}}],\"carpet\":[{\"aaxis\":{\"endlinecolor\":\"#2a3f5f\",\"gridcolor\":\"white\",\"linecolor\":\"white\",\"minorgridcolor\":\"white\",\"startlinecolor\":\"#2a3f5f\"},\"baxis\":{\"endlinecolor\":\"#2a3f5f\",\"gridcolor\":\"white\",\"linecolor\":\"white\",\"minorgridcolor\":\"white\",\"startlinecolor\":\"#2a3f5f\"},\"type\":\"carpet\"}],\"table\":[{\"cells\":{\"fill\":{\"color\":\"#EBF0F8\"},\"line\":{\"color\":\"white\"}},\"header\":{\"fill\":{\"color\":\"#C8D4E3\"},\"line\":{\"color\":\"white\"}},\"type\":\"table\"}],\"barpolar\":[{\"marker\":{\"line\":{\"color\":\"#E5ECF6\",\"width\":0.5},\"pattern\":{\"fillmode\":\"overlay\",\"size\":10,\"solidity\":0.2}},\"type\":\"barpolar\"}],\"pie\":[{\"automargin\":true,\"type\":\"pie\"}]},\"layout\":{\"autotypenumbers\":\"strict\",\"colorway\":[\"#636efa\",\"#EF553B\",\"#00cc96\",\"#ab63fa\",\"#FFA15A\",\"#19d3f3\",\"#FF6692\",\"#B6E880\",\"#FF97FF\",\"#FECB52\"],\"font\":{\"color\":\"#2a3f5f\"},\"hovermode\":\"closest\",\"hoverlabel\":{\"align\":\"left\"},\"paper_bgcolor\":\"white\",\"plot_bgcolor\":\"#E5ECF6\",\"polar\":{\"bgcolor\":\"#E5ECF6\",\"angularaxis\":{\"gridcolor\":\"white\",\"linecolor\":\"white\",\"ticks\":\"\"},\"radialaxis\":{\"gridcolor\":\"white\",\"linecolor\":\"white\",\"ticks\":\"\"}},\"ternary\":{\"bgcolor\":\"#E5ECF6\",\"aaxis\":{\"gridcolor\":\"white\",\"linecolor\":\"white\",\"ticks\":\"\"},\"baxis\":{\"gridcolor\":\"white\",\"linecolor\":\"white\",\"ticks\":\"\"},\"caxis\":{\"gridcolor\":\"white\",\"linecolor\":\"white\",\"ticks\":\"\"}},\"coloraxis\":{\"colorbar\":{\"outlinewidth\":0,\"ticks\":\"\"}},\"colorscale\":{\"sequential\":[[0.0,\"#0d0887\"],[0.1111111111111111,\"#46039f\"],[0.2222222222222222,\"#7201a8\"],[0.3333333333333333,\"#9c179e\"],[0.4444444444444444,\"#bd3786\"],[0.5555555555555556,\"#d8576b\"],[0.6666666666666666,\"#ed7953\"],[0.7777777777777778,\"#fb9f3a\"],[0.8888888888888888,\"#fdca26\"],[1.0,\"#f0f921\"]],\"sequentialminus\":[[0.0,\"#0d0887\"],[0.1111111111111111,\"#46039f\"],[0.2222222222222222,\"#7201a8\"],[0.3333333333333333,\"#9c179e\"],[0.4444444444444444,\"#bd3786\"],[0.5555555555555556,\"#d8576b\"],[0.6666666666666666,\"#ed7953\"],[0.7777777777777778,\"#fb9f3a\"],[0.8888888888888888,\"#fdca26\"],[1.0,\"#f0f921\"]],\"diverging\":[[0,\"#8e0152\"],[0.1,\"#c51b7d\"],[0.2,\"#de77ae\"],[0.3,\"#f1b6da\"],[0.4,\"#fde0ef\"],[0.5,\"#f7f7f7\"],[0.6,\"#e6f5d0\"],[0.7,\"#b8e186\"],[0.8,\"#7fbc41\"],[0.9,\"#4d9221\"],[1,\"#276419\"]]},\"xaxis\":{\"gridcolor\":\"white\",\"linecolor\":\"white\",\"ticks\":\"\",\"title\":{\"standoff\":15},\"zerolinecolor\":\"white\",\"automargin\":true,\"zerolinewidth\":2},\"yaxis\":{\"gridcolor\":\"white\",\"linecolor\":\"white\",\"ticks\":\"\",\"title\":{\"standoff\":15},\"zerolinecolor\":\"white\",\"automargin\":true,\"zerolinewidth\":2},\"scene\":{\"xaxis\":{\"backgroundcolor\":\"#E5ECF6\",\"gridcolor\":\"white\",\"linecolor\":\"white\",\"showbackground\":true,\"ticks\":\"\",\"zerolinecolor\":\"white\",\"gridwidth\":2},\"yaxis\":{\"backgroundcolor\":\"#E5ECF6\",\"gridcolor\":\"white\",\"linecolor\":\"white\",\"showbackground\":true,\"ticks\":\"\",\"zerolinecolor\":\"white\",\"gridwidth\":2},\"zaxis\":{\"backgroundcolor\":\"#E5ECF6\",\"gridcolor\":\"white\",\"linecolor\":\"white\",\"showbackground\":true,\"ticks\":\"\",\"zerolinecolor\":\"white\",\"gridwidth\":2}},\"shapedefaults\":{\"line\":{\"color\":\"#2a3f5f\"}},\"annotationdefaults\":{\"arrowcolor\":\"#2a3f5f\",\"arrowhead\":0,\"arrowwidth\":1},\"geo\":{\"bgcolor\":\"white\",\"landcolor\":\"#E5ECF6\",\"subunitcolor\":\"white\",\"showland\":true,\"showlakes\":true,\"lakecolor\":\"white\"},\"title\":{\"x\":0.05},\"mapbox\":{\"style\":\"light\"}}},\"xaxis\":{\"anchor\":\"y\",\"domain\":[0.0,1.0],\"title\":{\"text\":\"year\"}},\"yaxis\":{\"anchor\":\"x\",\"domain\":[0.0,1.0],\"title\":{\"text\":\"value\"}},\"legend\":{\"title\":{\"text\":\"variable\"},\"tracegroupgap\":0},\"margin\":{\"t\":60}},                        {\"responsive\": true}                    ).then(function(){\n",
       "                            \n",
       "var gd = document.getElementById('f345961c-f032-4412-894f-88d70b427d43');\n",
       "var x = new MutationObserver(function (mutations, observer) {{\n",
       "        var display = window.getComputedStyle(gd).display;\n",
       "        if (!display || display === 'none') {{\n",
       "            console.log([gd, 'removed!']);\n",
       "            Plotly.purge(gd);\n",
       "            observer.disconnect();\n",
       "        }}\n",
       "}});\n",
       "\n",
       "// Listen for the removal of the full notebook cells\n",
       "var notebookContainer = gd.closest('#notebook-container');\n",
       "if (notebookContainer) {{\n",
       "    x.observe(notebookContainer, {childList: true});\n",
       "}}\n",
       "\n",
       "// Listen for the clearing of the current output cell\n",
       "var outputEl = gd.closest('.output');\n",
       "if (outputEl) {{\n",
       "    x.observe(outputEl, {childList: true});\n",
       "}}\n",
       "\n",
       "                        })                };                });            </script>        </div>"
      ]
     },
     "metadata": {},
     "output_type": "display_data"
    }
   ],
   "source": [
    "px.line(df_graph_long, y = \"value\", x = \"year\", color = \"variable\")\n"
   ]
  },
  {
   "cell_type": "raw",
   "id": "34e1e5b2-3110-47e2-bb67-4657d2d1964c",
   "metadata": {},
   "source": [
    "# Übung 2 - exercise 19 "
   ]
  },
  {
   "cell_type": "code",
   "execution_count": 88,
   "id": "056814c4-fccf-43a7-b278-77baa26ecbd7",
   "metadata": {},
   "outputs": [],
   "source": [
    "file_names = ['AAPL', 'GOOG', 'META', 'MSFT']\n",
    "\n",
    "data_frames = {}\n",
    "\n",
    "for file_name in file_names:\n",
    "    file_path = f'Data/{file_name}.csv'\n",
    "    data_frames[file_name] = pd.read_csv(file_path)\n",
    "    \n",
    "aapl_data = data_frames['AAPL'][['Date', 'Close']].rename(\n",
    "    columns = {'Close':'AAPL'})\n",
    "goog_data = data_frames['GOOG'][['Date', 'Close']].rename(\n",
    "    columns = {'Close':'GOOG'})\n",
    "meta_data = data_frames['META'][['Date', 'Close']].rename(\n",
    "    columns = {'Close':'META'})\n",
    "msft_data = data_frames['MSFT'][['Date', 'Close']].rename(\n",
    "    columns = {'Close':'MSFT'})"
   ]
  },
  {
   "cell_type": "code",
   "execution_count": 94,
   "id": "86677660-9909-415b-8837-7beac79d0fe1",
   "metadata": {},
   "outputs": [
    {
     "data": {
      "text/html": [
       "<div>\n",
       "<style scoped>\n",
       "    .dataframe tbody tr th:only-of-type {\n",
       "        vertical-align: middle;\n",
       "    }\n",
       "\n",
       "    .dataframe tbody tr th {\n",
       "        vertical-align: top;\n",
       "    }\n",
       "\n",
       "    .dataframe thead th {\n",
       "        text-align: right;\n",
       "    }\n",
       "</style>\n",
       "<table border=\"1\" class=\"dataframe\">\n",
       "  <thead>\n",
       "    <tr style=\"text-align: right;\">\n",
       "      <th></th>\n",
       "      <th>Date</th>\n",
       "      <th>AAPL</th>\n",
       "      <th>GOOG</th>\n",
       "      <th>META</th>\n",
       "      <th>MSFT</th>\n",
       "    </tr>\n",
       "  </thead>\n",
       "  <tbody>\n",
       "    <tr>\n",
       "      <th>0</th>\n",
       "      <td>1980-12-12</td>\n",
       "      <td>0.128348</td>\n",
       "      <td>NaN</td>\n",
       "      <td>NaN</td>\n",
       "      <td>NaN</td>\n",
       "    </tr>\n",
       "    <tr>\n",
       "      <th>1</th>\n",
       "      <td>1980-12-15</td>\n",
       "      <td>0.121652</td>\n",
       "      <td>NaN</td>\n",
       "      <td>NaN</td>\n",
       "      <td>NaN</td>\n",
       "    </tr>\n",
       "    <tr>\n",
       "      <th>2</th>\n",
       "      <td>1980-12-16</td>\n",
       "      <td>0.112723</td>\n",
       "      <td>NaN</td>\n",
       "      <td>NaN</td>\n",
       "      <td>NaN</td>\n",
       "    </tr>\n",
       "    <tr>\n",
       "      <th>3</th>\n",
       "      <td>1980-12-17</td>\n",
       "      <td>0.115513</td>\n",
       "      <td>NaN</td>\n",
       "      <td>NaN</td>\n",
       "      <td>NaN</td>\n",
       "    </tr>\n",
       "    <tr>\n",
       "      <th>4</th>\n",
       "      <td>1980-12-18</td>\n",
       "      <td>0.118862</td>\n",
       "      <td>NaN</td>\n",
       "      <td>NaN</td>\n",
       "      <td>NaN</td>\n",
       "    </tr>\n",
       "  </tbody>\n",
       "</table>\n",
       "</div>"
      ],
      "text/plain": [
       "         Date      AAPL  GOOG  META  MSFT\n",
       "0  1980-12-12  0.128348   NaN   NaN   NaN\n",
       "1  1980-12-15  0.121652   NaN   NaN   NaN\n",
       "2  1980-12-16  0.112723   NaN   NaN   NaN\n",
       "3  1980-12-17  0.115513   NaN   NaN   NaN\n",
       "4  1980-12-18  0.118862   NaN   NaN   NaN"
      ]
     },
     "execution_count": 94,
     "metadata": {},
     "output_type": "execute_result"
    }
   ],
   "source": [
    "merged_data_AG = pd.merge(aapl_data, goog_data, on='Date', how='outer')\n",
    "merged_data_AGM = pd.merge(merged_data_AG, meta_data, on='Date', how='outer')\n",
    "df_final = pd.merge(merged_data_AGM, msft_data, on='Date', how='outer').reset_index(drop=True)\n",
    "df_final.head()"
   ]
  },
  {
   "cell_type": "code",
   "execution_count": 92,
   "id": "36141dbc-c5f4-460e-82d4-b481b15bebe9",
   "metadata": {},
   "outputs": [],
   "source": [
    "df_final.to_csv(\"Data/stocks.csv\", sep = \",\", decimal = \".\")"
   ]
  }
 ],
 "metadata": {
  "kernelspec": {
   "display_name": "Python 3 (ipykernel)",
   "language": "python",
   "name": "python3"
  },
  "language_info": {
   "codemirror_mode": {
    "name": "ipython",
    "version": 3
   },
   "file_extension": ".py",
   "mimetype": "text/x-python",
   "name": "python",
   "nbconvert_exporter": "python",
   "pygments_lexer": "ipython3",
   "version": "3.12.7"
  }
 },
 "nbformat": 4,
 "nbformat_minor": 5
}
